{
 "cells": [
  {
   "cell_type": "code",
   "execution_count": null,
   "metadata": {},
   "outputs": [],
   "source": [
    "!pip install torch torchmetrics pytorch_lightning matplotlib seaborn catboost xgboost statsmodels\n",
    "!pip install -U scikit-learn"
   ]
  },
  {
   "cell_type": "code",
   "execution_count": 15,
   "metadata": {},
   "outputs": [],
   "source": [
    "import matplotlib.pyplot as plt\n",
    "import pandas as pd\n",
    "import seaborn as sn\n",
    "import numpy as np\n",
    "\n",
    "import catboost as cat\n",
    "import xgboost as xgb\n",
    "\n",
    "from collections import Counter\n",
    "\n",
    "\n",
    "from scipy.fft import fft, fftfreq\n",
    "from pandas.plotting import autocorrelation_plot\n",
    "from statsmodels.tsa.seasonal import seasonal_decompose, STL\n",
    "\n",
    "from sklearn.metrics import confusion_matrix\n",
    "\n",
    "from sklearn.cluster import OPTICS\n",
    "from sklearn.linear_model import LinearRegression\n",
    "from sklearn.feature_selection import mutual_info_regression, mutual_info_classif\n",
    "from sklearn.feature_selection import SelectKBest, f_regression, f_classif, RFE, SelectFromModel\n",
    "from sklearn.metrics import r2_score, mean_squared_error, mean_absolute_error, silhouette_score\n",
    "from sklearn.model_selection import train_test_split\n",
    "from sklearn.preprocessing import StandardScaler\n",
    "from sklearn.metrics import mean_squared_error\n",
    "from sklearn.ensemble import RandomForestClassifier, RandomForestRegressor\n",
    "from sklearn.metrics import mean_squared_error\n",
    "from sklearn.metrics import accuracy_score, precision_score, recall_score, f1_score"
   ]
  },
  {
   "cell_type": "code",
   "execution_count": 16,
   "metadata": {},
   "outputs": [
    {
     "name": "stderr",
     "output_type": "stream",
     "text": [
      "/Users/miquelsaula/PycharmProjects/ProjectVGM/.conda/lib/python3.10/site-packages/tqdm/auto.py:21: TqdmWarning: IProgress not found. Please update jupyter and ipywidgets. See https://ipywidgets.readthedocs.io/en/stable/user_install.html\n",
      "  from .autonotebook import tqdm as notebook_tqdm\n"
     ]
    }
   ],
   "source": [
    "import math\n",
    "from time import time\n",
    "from tqdm.auto import tqdm\n",
    "\n",
    "import numpy as np\n",
    "import pandas as pd\n",
    "pd.options.display.float_format = '{:,.3f}'.format\n",
    "from IPython.display import display\n",
    "\n",
    "# Sklearn & stats tools\n",
    "from sklearn.model_selection import train_test_split\n",
    "from sklearn.preprocessing import StandardScaler\n",
    "from sklearn.linear_model import LinearRegression\n",
    "from sklearn.ensemble import RandomForestRegressor, GradientBoostingRegressor\n",
    "from statsmodels.tsa.seasonal import seasonal_decompose\n",
    "from sklearn.metrics import mean_absolute_error as mae\n",
    "from sklearn.metrics import mean_squared_error as mse\n",
    "\n",
    "# Neural Networks\n",
    "import torch\n",
    "import torch.nn as nn\n",
    "from torch.utils.data import Dataset, DataLoader\n",
    "import torchmetrics\n",
    "\n",
    "import pytorch_lightning as pl\n",
    "from pytorch_lightning import Trainer, seed_everything\n",
    "from pytorch_lightning.loggers.csv_logs import CSVLogger\n",
    "# from pytorch_lightning.callbacks import EarlyStopping, LearningRateMonitor\n",
    "from pytorch_lightning.callbacks.early_stopping import EarlyStopping\n",
    "\n",
    "\n",
    "# Plotting\n",
    "%matplotlib inline\n",
    "import matplotlib.pyplot as plt\n",
    "import matplotlib as mpl\n",
    "plt.style.use('bmh')\n",
    "mpl.rcParams['figure.figsize'] = 18, 8\n",
    "\n",
    "\n",
    "if torch.cuda.is_available():\n",
    "    gpus = 1\n",
    "else:\n",
    "    gpus = 0"
   ]
  },
  {
   "cell_type": "code",
   "execution_count": 3,
   "metadata": {},
   "outputs": [],
   "source": [
    "def calculate_metrics(y_true, y_pred):\n",
    "    accuracy = accuracy_score(y_true, y_pred)\n",
    "    precision = precision_score(y_true, y_pred, average=None)\n",
    "    recall = recall_score(y_true, y_pred, average=None)\n",
    "    f1 = f1_score(y_true, y_pred, average=None)\n",
    "    return accuracy, precision, recall, f1\n",
    "\n",
    "def calculate_proportions(array):\n",
    "    counts = Counter(array)\n",
    "    total = array.shape[0]\n",
    "    proportions = {key: val / total for key, val in counts.items()}\n",
    "    return proportions\n",
    "\n",
    "def classification_report(predictions, targets, class_names):\n",
    "    # Calculate the metrics\n",
    "    accuracy, precision, recall, f1 = calculate_metrics(targets, predictions)\n",
    "\n",
    "    # Calculate proportions\n",
    "    pred_proportions = calculate_proportions(predictions)\n",
    "    target_proportions = calculate_proportions(targets)\n",
    "\n",
    "    # Map class indices to class names\n",
    "    index_to_class_name = {index: class_name for index, class_name in enumerate(class_names)}\n",
    "\n",
    "    # Print the results\n",
    "    print(f\"Accuracy: {accuracy * 100:.2f}%\")\n",
    "\n",
    "    data = []\n",
    "    for class_index, class_name in index_to_class_name.items():\n",
    "        row = {\n",
    "            'Class': class_name,\n",
    "            'Precision': precision[class_index] * 100,\n",
    "            'Recall': recall[class_index] * 100,\n",
    "            'F1-score': f1[class_index] * 100,\n",
    "            'Prediction Proportion': pred_proportions.get(class_index, 0) * 100,\n",
    "            'Target Proportion': target_proportions.get(class_index, 0) * 100,\n",
    "        }\n",
    "        data.append(row)\n",
    "\n",
    "    return pd.DataFrame(data)"
   ]
  },
  {
   "attachments": {},
   "cell_type": "markdown",
   "metadata": {},
   "source": [
    "# Importación del dataset final"
   ]
  },
  {
   "cell_type": "code",
   "execution_count": 4,
   "metadata": {},
   "outputs": [
    {
     "data": {
      "text/html": [
       "<div>\n",
       "<style scoped>\n",
       "    .dataframe tbody tr th:only-of-type {\n",
       "        vertical-align: middle;\n",
       "    }\n",
       "\n",
       "    .dataframe tbody tr th {\n",
       "        vertical-align: top;\n",
       "    }\n",
       "\n",
       "    .dataframe thead th {\n",
       "        text-align: right;\n",
       "    }\n",
       "</style>\n",
       "<table border=\"1\" class=\"dataframe\">\n",
       "  <thead>\n",
       "    <tr style=\"text-align: right;\">\n",
       "      <th></th>\n",
       "      <th></th>\n",
       "      <th>o</th>\n",
       "      <th>h</th>\n",
       "      <th>l</th>\n",
       "      <th>c</th>\n",
       "      <th>v</th>\n",
       "      <th>n</th>\n",
       "      <th>vw</th>\n",
       "      <th>diff</th>\n",
       "      <th>emaS</th>\n",
       "      <th>emaM</th>\n",
       "      <th>...</th>\n",
       "      <th>time_embed_month_sin</th>\n",
       "      <th>time_embed_month_cos</th>\n",
       "      <th>time_embed_year_sin</th>\n",
       "      <th>time_embed_year_cos</th>\n",
       "      <th>market_correlation</th>\n",
       "      <th>market_long_term_trend</th>\n",
       "      <th>market_short_term_trend</th>\n",
       "      <th>market_change</th>\n",
       "      <th>alpha</th>\n",
       "      <th>beta</th>\n",
       "    </tr>\n",
       "    <tr>\n",
       "      <th>t</th>\n",
       "      <th>symbol</th>\n",
       "      <th></th>\n",
       "      <th></th>\n",
       "      <th></th>\n",
       "      <th></th>\n",
       "      <th></th>\n",
       "      <th></th>\n",
       "      <th></th>\n",
       "      <th></th>\n",
       "      <th></th>\n",
       "      <th></th>\n",
       "      <th></th>\n",
       "      <th></th>\n",
       "      <th></th>\n",
       "      <th></th>\n",
       "      <th></th>\n",
       "      <th></th>\n",
       "      <th></th>\n",
       "      <th></th>\n",
       "      <th></th>\n",
       "      <th></th>\n",
       "      <th></th>\n",
       "    </tr>\n",
       "  </thead>\n",
       "  <tbody>\n",
       "    <tr>\n",
       "      <th>2018-01-02 09:00:00</th>\n",
       "      <th>BABA</th>\n",
       "      <td>173.46</td>\n",
       "      <td>173.90</td>\n",
       "      <td>173.03</td>\n",
       "      <td>173.77</td>\n",
       "      <td>12094</td>\n",
       "      <td>92</td>\n",
       "      <td>173.478710</td>\n",
       "      <td>1.004939</td>\n",
       "      <td>1.000886</td>\n",
       "      <td>1.000067</td>\n",
       "      <td>...</td>\n",
       "      <td>0.000000</td>\n",
       "      <td>1.000000</td>\n",
       "      <td>0.000000</td>\n",
       "      <td>1.000000</td>\n",
       "      <td>NaN</td>\n",
       "      <td>NaN</td>\n",
       "      <td>NaN</td>\n",
       "      <td>NaN</td>\n",
       "      <td>NaN</td>\n",
       "      <td>NaN</td>\n",
       "    </tr>\n",
       "    <tr>\n",
       "      <th>2018-01-02 10:00:00</th>\n",
       "      <th>BABA</th>\n",
       "      <td>173.90</td>\n",
       "      <td>174.00</td>\n",
       "      <td>173.83</td>\n",
       "      <td>174.00</td>\n",
       "      <td>7456</td>\n",
       "      <td>28</td>\n",
       "      <td>173.896286</td>\n",
       "      <td>1.002407</td>\n",
       "      <td>1.001139</td>\n",
       "      <td>1.000127</td>\n",
       "      <td>...</td>\n",
       "      <td>0.008727</td>\n",
       "      <td>0.999962</td>\n",
       "      <td>0.000717</td>\n",
       "      <td>1.000000</td>\n",
       "      <td>1.000000</td>\n",
       "      <td>1.000046</td>\n",
       "      <td>1.000046</td>\n",
       "      <td>NaN</td>\n",
       "      <td>NaN</td>\n",
       "      <td>NaN</td>\n",
       "    </tr>\n",
       "    <tr>\n",
       "      <th>2018-01-02 11:00:00</th>\n",
       "      <th>BABA</th>\n",
       "      <td>174.15</td>\n",
       "      <td>174.70</td>\n",
       "      <td>174.02</td>\n",
       "      <td>174.58</td>\n",
       "      <td>9966</td>\n",
       "      <td>93</td>\n",
       "      <td>174.341312</td>\n",
       "      <td>1.002559</td>\n",
       "      <td>1.001376</td>\n",
       "      <td>1.000190</td>\n",
       "      <td>...</td>\n",
       "      <td>0.017452</td>\n",
       "      <td>0.999848</td>\n",
       "      <td>0.001435</td>\n",
       "      <td>0.999999</td>\n",
       "      <td>0.895350</td>\n",
       "      <td>1.000505</td>\n",
       "      <td>1.000540</td>\n",
       "      <td>0.697924</td>\n",
       "      <td>NaN</td>\n",
       "      <td>NaN</td>\n",
       "    </tr>\n",
       "    <tr>\n",
       "      <th>2018-01-02 12:00:00</th>\n",
       "      <th>BABA</th>\n",
       "      <td>174.50</td>\n",
       "      <td>174.98</td>\n",
       "      <td>174.25</td>\n",
       "      <td>174.72</td>\n",
       "      <td>65516</td>\n",
       "      <td>405</td>\n",
       "      <td>174.598031</td>\n",
       "      <td>1.001473</td>\n",
       "      <td>1.001392</td>\n",
       "      <td>1.000223</td>\n",
       "      <td>...</td>\n",
       "      <td>0.026177</td>\n",
       "      <td>0.999657</td>\n",
       "      <td>0.002152</td>\n",
       "      <td>0.999998</td>\n",
       "      <td>0.933935</td>\n",
       "      <td>1.000610</td>\n",
       "      <td>1.000648</td>\n",
       "      <td>0.417496</td>\n",
       "      <td>NaN</td>\n",
       "      <td>NaN</td>\n",
       "    </tr>\n",
       "    <tr>\n",
       "      <th>2018-01-02 13:00:00</th>\n",
       "      <th>BABA</th>\n",
       "      <td>174.68</td>\n",
       "      <td>175.33</td>\n",
       "      <td>174.40</td>\n",
       "      <td>175.00</td>\n",
       "      <td>105976</td>\n",
       "      <td>696</td>\n",
       "      <td>174.928519</td>\n",
       "      <td>1.001893</td>\n",
       "      <td>1.001475</td>\n",
       "      <td>1.000265</td>\n",
       "      <td>...</td>\n",
       "      <td>0.034899</td>\n",
       "      <td>0.999391</td>\n",
       "      <td>0.002869</td>\n",
       "      <td>0.999996</td>\n",
       "      <td>0.963070</td>\n",
       "      <td>1.000622</td>\n",
       "      <td>1.000650</td>\n",
       "      <td>0.082915</td>\n",
       "      <td>NaN</td>\n",
       "      <td>NaN</td>\n",
       "    </tr>\n",
       "  </tbody>\n",
       "</table>\n",
       "<p>5 rows × 66 columns</p>\n",
       "</div>"
      ],
      "text/plain": [
       "                                 o       h       l       c       v    n  \\\n",
       "t                   symbol                                                \n",
       "2018-01-02 09:00:00 BABA    173.46  173.90  173.03  173.77   12094   92   \n",
       "2018-01-02 10:00:00 BABA    173.90  174.00  173.83  174.00    7456   28   \n",
       "2018-01-02 11:00:00 BABA    174.15  174.70  174.02  174.58    9966   93   \n",
       "2018-01-02 12:00:00 BABA    174.50  174.98  174.25  174.72   65516  405   \n",
       "2018-01-02 13:00:00 BABA    174.68  175.33  174.40  175.00  105976  696   \n",
       "\n",
       "                                    vw      diff      emaS      emaM  ...  \\\n",
       "t                   symbol                                            ...   \n",
       "2018-01-02 09:00:00 BABA    173.478710  1.004939  1.000886  1.000067  ...   \n",
       "2018-01-02 10:00:00 BABA    173.896286  1.002407  1.001139  1.000127  ...   \n",
       "2018-01-02 11:00:00 BABA    174.341312  1.002559  1.001376  1.000190  ...   \n",
       "2018-01-02 12:00:00 BABA    174.598031  1.001473  1.001392  1.000223  ...   \n",
       "2018-01-02 13:00:00 BABA    174.928519  1.001893  1.001475  1.000265  ...   \n",
       "\n",
       "                            time_embed_month_sin  time_embed_month_cos  \\\n",
       "t                   symbol                                               \n",
       "2018-01-02 09:00:00 BABA                0.000000              1.000000   \n",
       "2018-01-02 10:00:00 BABA                0.008727              0.999962   \n",
       "2018-01-02 11:00:00 BABA                0.017452              0.999848   \n",
       "2018-01-02 12:00:00 BABA                0.026177              0.999657   \n",
       "2018-01-02 13:00:00 BABA                0.034899              0.999391   \n",
       "\n",
       "                            time_embed_year_sin  time_embed_year_cos  \\\n",
       "t                   symbol                                             \n",
       "2018-01-02 09:00:00 BABA               0.000000             1.000000   \n",
       "2018-01-02 10:00:00 BABA               0.000717             1.000000   \n",
       "2018-01-02 11:00:00 BABA               0.001435             0.999999   \n",
       "2018-01-02 12:00:00 BABA               0.002152             0.999998   \n",
       "2018-01-02 13:00:00 BABA               0.002869             0.999996   \n",
       "\n",
       "                            market_correlation  market_long_term_trend  \\\n",
       "t                   symbol                                               \n",
       "2018-01-02 09:00:00 BABA                   NaN                     NaN   \n",
       "2018-01-02 10:00:00 BABA              1.000000                1.000046   \n",
       "2018-01-02 11:00:00 BABA              0.895350                1.000505   \n",
       "2018-01-02 12:00:00 BABA              0.933935                1.000610   \n",
       "2018-01-02 13:00:00 BABA              0.963070                1.000622   \n",
       "\n",
       "                            market_short_term_trend  market_change  alpha  \\\n",
       "t                   symbol                                                  \n",
       "2018-01-02 09:00:00 BABA                        NaN            NaN    NaN   \n",
       "2018-01-02 10:00:00 BABA                   1.000046            NaN    NaN   \n",
       "2018-01-02 11:00:00 BABA                   1.000540       0.697924    NaN   \n",
       "2018-01-02 12:00:00 BABA                   1.000648       0.417496    NaN   \n",
       "2018-01-02 13:00:00 BABA                   1.000650       0.082915    NaN   \n",
       "\n",
       "                            beta  \n",
       "t                   symbol        \n",
       "2018-01-02 09:00:00 BABA     NaN  \n",
       "2018-01-02 10:00:00 BABA     NaN  \n",
       "2018-01-02 11:00:00 BABA     NaN  \n",
       "2018-01-02 12:00:00 BABA     NaN  \n",
       "2018-01-02 13:00:00 BABA     NaN  \n",
       "\n",
       "[5 rows x 66 columns]"
      ]
     },
     "execution_count": 4,
     "metadata": {},
     "output_type": "execute_result"
    }
   ],
   "source": [
    "df = pd.read_csv('./final_dataset.csv').drop(columns=['Unnamed: 0'])\n",
    "df['t'] = pd.to_datetime(df['t'])\n",
    "df = df.set_index(['t', 'symbol'])\n",
    "df = df.sort_index()\n",
    "df.head()"
   ]
  },
  {
   "attachments": {},
   "cell_type": "markdown",
   "metadata": {},
   "source": [
    "Magnitud media de la variación de TSLA a través del tiempo"
   ]
  },
  {
   "cell_type": "code",
   "execution_count": 5,
   "metadata": {},
   "outputs": [
    {
     "data": {
      "text/plain": [
       "<AxesSubplot:xlabel='t,symbol'>"
      ]
     },
     "execution_count": 5,
     "metadata": {},
     "output_type": "execute_result"
    },
    {
     "data": {
      "image/png": "[encoded data removed]",
      "text/plain": [
       "<Figure size 432x288 with 1 Axes>"
      ]
     },
     "metadata": {
      "needs_background": "light"
     },
     "output_type": "display_data"
    }
   ],
   "source": [
    "np.log(df.groupby('symbol').get_group('TSLA').ewm(span=500).mean().abs()['pc12']).plot()"
   ]
  },
  {
   "cell_type": "code",
   "execution_count": 6,
   "metadata": {},
   "outputs": [
    {
     "name": "stderr",
     "output_type": "stream",
     "text": [
      "/var/folders/4z/l7kc3ncn7g3628qd59lkh1km0000gn/T/ipykernel_41472/894472347.py:6: FutureWarning: Dropping of nuisance columns in rolling operations is deprecated; in a future version this will raise TypeError. Select only valid columns before calling the operation. Dropped columns were Index(['symbol'], dtype='object')\n",
      "  data = np.log(df.groupby('symbol').get_group('TSLA').reset_index().set_index('t').ewm(span=500).mean().abs()['pc12'])\n"
     ]
    },
    {
     "data": {
      "image/png": "[encoded data removed]",
      "text/plain": [
       "<Figure size 1008x432 with 1 Axes>"
      ]
     },
     "metadata": {},
     "output_type": "display_data"
    }
   ],
   "source": [
    "import seaborn as sns\n",
    "import matplotlib.pyplot as plt\n",
    "\n",
    "plt.rc('text', usetex=False)\n",
    "sns.set_style('darkgrid')\n",
    "data = np.log(df.groupby('symbol').get_group('TSLA').reset_index().set_index('t').ewm(span=500).mean().abs()['pc12'])\n",
    "plt.figure(figsize=(14, 6)) # Increase the figure size to 10x6 inches\n",
    "plt.xticks(rotation=30, ha='right', fontsize=8)\n",
    "plt.xlabel('time')\n",
    "\n",
    "plt.rc('text', usetex=True)\n",
    "plt.ylabel(r'$\\log{\\frac{v_{d+1}}{v_d}}$')\n",
    "sns.lineplot(data=data, color='darkblue') # Set the line colour to dark blue\n",
    "plt.rc('text', usetex=False)"
   ]
  },
  {
   "cell_type": "code",
   "execution_count": 7,
   "metadata": {},
   "outputs": [
    {
     "data": {
      "text/plain": [
       "<AxesSubplot:>"
      ]
     },
     "execution_count": 7,
     "metadata": {},
     "output_type": "execute_result"
    },
    {
     "data": {
      "image/png": "[encoded data removed]",
      "text/plain": [
       "<Figure size 432x288 with 1 Axes>"
      ]
     },
     "metadata": {},
     "output_type": "display_data"
    }
   ],
   "source": [
    "df['pc12'].hist(bins=50)"
   ]
  },
  {
   "attachments": {},
   "cell_type": "markdown",
   "metadata": {},
   "source": [
    "Top 20 valores PC12"
   ]
  },
  {
   "cell_type": "code",
   "execution_count": 8,
   "metadata": {},
   "outputs": [
    {
     "data": {
      "text/plain": [
       "t                    symbol\n",
       "2020-08-28 16:00:00  AAPL     -184.750071\n",
       "2020-08-28 23:00:00  AAPL     -184.596963\n",
       "2020-08-28 19:00:00  AAPL     -184.265316\n",
       "2020-08-28 15:00:00  AAPL     -184.231121\n",
       "2020-08-28 18:00:00  AAPL     -184.055697\n",
       "2020-08-28 17:00:00  AAPL     -183.823395\n",
       "2020-08-28 22:00:00  AAPL     -183.693278\n",
       "2020-08-28 14:00:00  AAPL     -183.454955\n",
       "2020-08-28 20:00:00  AAPL     -183.117767\n",
       "2020-08-28 21:00:00  AAPL     -183.108576\n",
       "2020-08-28 13:00:00  AAPL     -182.843224\n",
       "2020-08-28 12:00:00  AAPL     -182.328986\n",
       "2022-07-15 23:00:00  GOOG     -167.303292\n",
       "2022-07-15 21:00:00  GOOG     -166.804772\n",
       "2022-07-15 20:00:00  GOOG     -166.225505\n",
       "2022-07-15 19:00:00  GOOG     -165.731233\n",
       "2022-07-15 18:00:00  GOOG     -165.239768\n",
       "2022-07-15 17:00:00  GOOG     -164.780019\n",
       "2022-07-15 15:00:00  GOOG     -164.267377\n",
       "2022-07-15 16:00:00  GOOG     -164.259897\n",
       "Name: pc12, dtype: float64"
      ]
     },
     "execution_count": 8,
     "metadata": {},
     "output_type": "execute_result"
    }
   ],
   "source": [
    "df.reset_index()\n",
    "df = df.sort_values('pc12')\n",
    "df['pc12'].head(20)"
   ]
  },
  {
   "attachments": {},
   "cell_type": "markdown",
   "metadata": {},
   "source": [
    "Bottom 5 valores PC12"
   ]
  },
  {
   "cell_type": "code",
   "execution_count": 9,
   "metadata": {},
   "outputs": [
    {
     "data": {
      "text/plain": [
       "t                    symbol\n",
       "2023-02-01 10:00:00  META      51.484519\n",
       "2023-02-01 20:00:00  META      52.084823\n",
       "2023-02-01 12:00:00  META      52.233970\n",
       "2023-02-01 13:00:00  META      52.360424\n",
       "2023-02-01 19:00:00  META      52.801748\n",
       "Name: pc12, dtype: float64"
      ]
     },
     "execution_count": 9,
     "metadata": {},
     "output_type": "execute_result"
    }
   ],
   "source": [
    "df['pc12'].tail()"
   ]
  },
  {
   "attachments": {},
   "cell_type": "markdown",
   "metadata": {},
   "source": [
    "## Metodo de categorización 1\n",
    "Este es el malo, calcula los percentiles generales y agrupa cada instancia en su respectivo grupo"
   ]
  },
  {
   "cell_type": "code",
   "execution_count": 10,
   "metadata": {},
   "outputs": [],
   "source": [
    "df.sort_values('pc12')\n",
    "top_value = df['pc12'].quantile(0.95)\n",
    "bottom_value = df['pc12'].quantile(0.05)\n",
    "\n",
    "df['category'] = 'middle'\n",
    "df.loc[df['pc12'] > top_value, 'category'] = 'top'\n",
    "df.loc[df['pc12'] < bottom_value, 'category'] = 'bottom'"
   ]
  },
  {
   "attachments": {},
   "cell_type": "markdown",
   "metadata": {},
   "source": [
    "## Metodo 2\n",
    "Este es el bueno, calcula unos thresholds dinamicos en función de la aproximación de la función de distribución gaussiana para detectar el top 5% y bottom 5% de las instancias de manera contextual. És decir, que en función del contexto del activo en cada momento estima cuales són los valores más extremos que pueden suceder."
   ]
  },
  {
   "cell_type": "code",
   "execution_count": 11,
   "metadata": {},
   "outputs": [],
   "source": [
    "from scipy.stats import norm\n",
    "df = df.sort_index()\n",
    "\n",
    "# Define the threshold percentile\n",
    "threshold_percentile = 4\n",
    "rolling_window = 77\n",
    "\n",
    "# Compute the rolling mean and standard deviation for each symbol\n",
    "df['rolling_mean'] = df.groupby('symbol')['pc12'].transform(lambda x: x.rolling(window=rolling_window).mean())\n",
    "df['rolling_std'] = df.groupby('symbol')['pc12'].transform(lambda x: x.rolling(window=rolling_window).std())\n",
    "\n",
    "# Compute the upper and lower threshold values for each symbol\n",
    "df['upper_threshold'] = df['rolling_mean'] + df['rolling_std'] * norm.ppf(1 - threshold_percentile / 100)\n",
    "df['lower_threshold'] = df['rolling_mean'] - df['rolling_std'] * norm.ppf(1 - threshold_percentile / 100)\n",
    "\n",
    "# Assign the category based on the thresholds\n",
    "df['category'] = 'middle'\n",
    "df.loc[df['pc12'] > df['upper_threshold'], 'category'] = 'top'\n",
    "df.loc[df['pc12'] < df['lower_threshold'], 'category'] = 'bottom'\n",
    "\n",
    "df['category'] = df['category'].astype('category')\n",
    "\n",
    "# Drop the intermediate columns\n",
    "df.drop(['rolling_mean', 'rolling_std', 'upper_threshold', 'lower_threshold'], axis=1, inplace=True)"
   ]
  },
  {
   "attachments": {},
   "cell_type": "markdown",
   "metadata": {},
   "source": [
    "Porcentages finales de cada clase:"
   ]
  },
  {
   "cell_type": "code",
   "execution_count": 12,
   "metadata": {},
   "outputs": [
    {
     "data": {
      "text/plain": [
       "87.58971776006908"
      ]
     },
     "execution_count": 12,
     "metadata": {},
     "output_type": "execute_result"
    }
   ],
   "source": [
    "year = 2022\n",
    "res = df[df.index.get_level_values('t').year == year].value_counts('category') * 100 / len(df[df.index.get_level_values('t').year == year])\n",
    "\n",
    "res['middle']"
   ]
  },
  {
   "cell_type": "code",
   "execution_count": 13,
   "metadata": {},
   "outputs": [
    {
     "name": "stdout",
     "output_type": "stream",
     "text": [
      "Mean of 'top' values by year:    5.769%\n",
      "Std of 'top' values by year:     0.231%\n",
      "\n",
      "Mean of 'middle' values by year: 88.214%\n",
      "Std of 'middle' values by year:  0.547%\n",
      "\n",
      "Mean of 'bottom' values by year: 6.017%\n",
      "Std of 'bottom' values by year:  0.416%\n"
     ]
    }
   ],
   "source": [
    "amounts = {\n",
    "    'top': [],\n",
    "    'middle': [],\n",
    "    'bottom': [],\n",
    "}\n",
    "for year in [2018, 2019, 2020, 2021, 2022, 2023]:\n",
    "    res = df[df.index.get_level_values('t').year == year].value_counts('category') * 100 / len(df[df.index.get_level_values('t').year == year])\n",
    "    amounts['top'].append(res['top'])\n",
    "    amounts['middle'].append(res['middle'])\n",
    "    amounts['bottom'].append(res['bottom'])\n",
    "\n",
    "res = df.value_counts('category')\n",
    "\n",
    "print(f\"Mean of 'top' values by year:    {np.mean(amounts['top']):.3f}%\")\n",
    "print(f\"Std of 'top' values by year:     {np.std(amounts['top']):.3f}%\")\n",
    "\n",
    "print(f\"\\nMean of 'middle' values by year: {np.mean(amounts['middle']):.3f}%\")\n",
    "print(f\"Std of 'middle' values by year:  {np.std(amounts['middle']):.3f}%\")\n",
    "\n",
    "print(f\"\\nMean of 'bottom' values by year: {np.mean(amounts['bottom']):.3f}%\")\n",
    "print(f\"Std of 'bottom' values by year:  {np.std(amounts['bottom']):.3f}%\")"
   ]
  },
  {
   "cell_type": "code",
   "execution_count": 14,
   "metadata": {},
   "outputs": [
    {
     "data": {
      "text/plain": [
       "Index(['o', 'h', 'l', 'c', 'v', 'n', 'vw', 'diff', 'emaS', 'emaM', 'emaL',\n",
       "       'std', 'pc', 'pc12', 'mvS', 'mvL', 'mnS', 'mnL', 'rsi', 'rsid', 'rlmS',\n",
       "       'rlmL', 'rlmD', 'obv', 'obvmS', 'obvmL', 'obvsL', 'obvSH', 'lavgv',\n",
       "       'lavm', 'lavs', 'avgv', 'ewm_12', 'ewm_26', 'macd', 'signal',\n",
       "       'macd_std', 'macds', 'financial_data_age', 'P/E', 'P/S', 'P/B',\n",
       "       'EPS_Growth', 'ROE', 'ROA', 'Gross_Margin', 'Operating_Margin',\n",
       "       'Net_Profit_Margin', 'Current_Ratio', 'Debt_to_Equity', 'FCF',\n",
       "       'spy_value', 'time_embed_day_sin', 'time_embed_day_cos',\n",
       "       'time_embed_week_sin', 'time_embed_week_cos', 'time_embed_month_sin',\n",
       "       'time_embed_month_cos', 'time_embed_year_sin', 'time_embed_year_cos',\n",
       "       'market_correlation', 'market_long_term_trend',\n",
       "       'market_short_term_trend', 'market_change', 'alpha', 'beta',\n",
       "       'category'],\n",
       "      dtype='object')"
      ]
     },
     "execution_count": 14,
     "metadata": {},
     "output_type": "execute_result"
    }
   ],
   "source": [
    "df.columns"
   ]
  },
  {
   "attachments": {},
   "cell_type": "markdown",
   "metadata": {},
   "source": [
    "---"
   ]
  },
  {
   "attachments": {},
   "cell_type": "markdown",
   "metadata": {},
   "source": [
    "# Preparación del dataset\n",
    "\n",
    "Primero se calcula el punto en el que dividir el dataset a partir de un threshold temporal que divida en un 80/20 el rango general de timestamps del dataset"
   ]
  },
  {
   "cell_type": "code",
   "execution_count": 15,
   "metadata": {},
   "outputs": [
    {
     "name": "stderr",
     "output_type": "stream",
     "text": [
      "/var/folders/4z/l7kc3ncn7g3628qd59lkh1km0000gn/T/ipykernel_41472/3322020656.py:3: SettingWithCopyWarning: \n",
      "A value is trying to be set on a copy of a slice from a DataFrame\n",
      "\n",
      "See the caveats in the documentation: https://pandas.pydata.org/pandas-docs/stable/user_guide/indexing.html#returning-a-view-versus-a-copy\n",
      "  df['hv_cat'].loc[(df['category'] == 'bottom') | (df['category'] == 'top')] = 1\n"
     ]
    }
   ],
   "source": [
    "# Codigo para detectar altas variaciones\n",
    "df['hv_cat'] = 0\n",
    "df['hv_cat'].loc[(df['category'] == 'bottom') | (df['category'] == 'top')] = 1"
   ]
  },
  {
   "cell_type": "code",
   "execution_count": 16,
   "metadata": {},
   "outputs": [
    {
     "data": {
      "text/plain": [
       "middle    223834\n",
       "bottom     15606\n",
       "top        14825\n",
       "Name: category, dtype: int64"
      ]
     },
     "execution_count": 16,
     "metadata": {},
     "output_type": "execute_result"
    }
   ],
   "source": [
    "df['category'].value_counts()"
   ]
  },
  {
   "cell_type": "code",
   "execution_count": 17,
   "metadata": {},
   "outputs": [
    {
     "data": {
      "text/plain": [
       "0    223834\n",
       "1     30431\n",
       "Name: hv_cat, dtype: int64"
      ]
     },
     "execution_count": 17,
     "metadata": {},
     "output_type": "execute_result"
    }
   ],
   "source": [
    "df['hv_cat'].value_counts()"
   ]
  },
  {
   "cell_type": "code",
   "execution_count": 18,
   "metadata": {},
   "outputs": [
    {
     "name": "stdout",
     "output_type": "stream",
     "text": [
      "60% division timestamp: 2021-02-24 03:00:00\n",
      "85% division timestamp: 2022-06-17 18:30:00\n"
     ]
    }
   ],
   "source": [
    "df.index.get_level_values('t').min()\n",
    "df.index.get_level_values('t').max()\n",
    "\n",
    "timestamps = df.index.get_level_values('t')\n",
    "min_timestamp = timestamps.min()\n",
    "max_timestamp = timestamps.max()\n",
    "\n",
    "# Find the timestamp that is 80% of the way between the min and max\n",
    "threshold_timestamp_val = min_timestamp + 0.6 * (max_timestamp - min_timestamp)\n",
    "threshold_timestamp_test = min_timestamp + 0.85 * (max_timestamp - min_timestamp)\n",
    "print(\"60% division timestamp:\", threshold_timestamp_val)\n",
    "print(\"85% division timestamp:\", threshold_timestamp_test)"
   ]
  },
  {
   "attachments": {},
   "cell_type": "markdown",
   "metadata": {},
   "source": [
    "Aquí se puede hacer una primera selección de atributos aunque de momento no se haga nada :)"
   ]
  },
  {
   "cell_type": "code",
   "execution_count": 19,
   "metadata": {},
   "outputs": [],
   "source": [
    "\"\"\"\n",
    "columns = [\n",
    "    'pc', 'emaL', 'emaS', 'mvS', 'rsi', 'macds', 'lavs', 'Net_Profit_Margin', 'market_correlation',\n",
    "    'Gross_Margin', 'P/E', 'time_embed_year_sin', 'time_embed_year_cos', 'financial_data_age', 'obvmL'\n",
    "]\n",
    "\"\"\"\n",
    "columns = df.columns"
   ]
  },
  {
   "attachments": {},
   "cell_type": "markdown",
   "metadata": {},
   "source": [
    "Aqui se divide ya el dataset separando los dataframes directamente en vez de hacerlo con el classico train/test split de toda la vida. Esto es así ya que se desea preprocesar el data_train por separado."
   ]
  },
  {
   "cell_type": "code",
   "execution_count": 20,
   "metadata": {},
   "outputs": [],
   "source": [
    "data = df[columns].dropna()\n",
    "data_train = data[data.index.get_level_values('t') <= threshold_timestamp_val]\n",
    "data_val = data[(data.index.get_level_values('t') > threshold_timestamp_val) & (data.index.get_level_values('t') <= threshold_timestamp_test)]\n",
    "data_test = data[data.index.get_level_values('t') > threshold_timestamp_test]"
   ]
  },
  {
   "cell_type": "code",
   "execution_count": 23,
   "metadata": {},
   "outputs": [
    {
     "name": "stdout",
     "output_type": "stream",
     "text": [
      "Train:\n",
      "(115029, 65)\n",
      "(115029,)\n",
      "\n",
      "Validation:\n",
      "(61074, 65)\n",
      "(61074,)\n",
      "\n",
      "Test:\n",
      "(37369, 65)\n",
      "(37369,)\n"
     ]
    }
   ],
   "source": [
    "X_train_raw = data_train[columns].drop(columns=['pc12', 'category', 'hv_cat'])\n",
    "y_train = data_train['category']\n",
    "\n",
    "X_val_raw = data_val[columns].drop(columns=['pc12', 'category', 'hv_cat'])\n",
    "y_val = data_val['category']\n",
    "\n",
    "X_test_raw = data_test[columns].drop(columns=['pc12', 'category', 'hv_cat'])\n",
    "y_test = data_test['category']\n",
    "\n",
    "labels_scaler = StandardScaler()\n",
    "X_train = pd.DataFrame(labels_scaler.fit_transform(X_train_raw), columns=X_train_raw.columns)\n",
    "X_val = pd.DataFrame(labels_scaler.transform(X_val_raw), columns=X_train_raw.columns)\n",
    "X_test = pd.DataFrame(labels_scaler.transform(X_test_raw), columns=X_train_raw.columns)\n",
    "\n",
    "print(\"Train:\")\n",
    "print(X_train.shape)\n",
    "print(y_train.shape)\n",
    "print(\"\\nValidation:\")\n",
    "print(X_val.shape)\n",
    "print(y_val.shape)\n",
    "print(\"\\nTest:\")\n",
    "print(X_test.shape)\n",
    "print(y_test.shape)"
   ]
  },
  {
   "cell_type": "code",
   "execution_count": null,
   "metadata": {},
   "outputs": [],
   "source": []
  }
 ],
 "metadata": {
  "kernelspec": {
   "display_name": "TradingStrategies2",
   "language": "python",
   "name": "python3"
  },
  "language_info": {
   "codemirror_mode": {
    "name": "ipython",
    "version": 3
   },
   "file_extension": ".py",
   "mimetype": "text/x-python",
   "name": "python",
   "nbconvert_exporter": "python",
   "pygments_lexer": "ipython3",
   "version": "3.10.10"
  },
  "orig_nbformat": 4
 },
 "nbformat": 4,
 "nbformat_minor": 2
}
