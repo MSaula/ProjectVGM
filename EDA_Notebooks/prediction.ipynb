{
 "cells": [
  {
   "cell_type": "code",
   "execution_count": 174,
   "metadata": {},
   "outputs": [],
   "source": [
    "import matplotlib.pyplot as plt\n",
    "import pandas as pd\n",
    "import seaborn as sn\n",
    "import numpy as np\n",
    "\n",
    "import catboost as cat\n",
    "import xgboost as xgb\n",
    "\n",
    "from scipy.fft import fft, fftfreq\n",
    "from pandas.plotting import autocorrelation_plot\n",
    "from statsmodels.tsa.seasonal import seasonal_decompose, STL\n",
    "from sklearn.cluster import OPTICS\n",
    "from sklearn.linear_model import LinearRegression\n",
    "from sklearn.feature_selection import mutual_info_regression, mutual_info_classif\n",
    "from sklearn.metrics import r2_score, mean_squared_error, mean_absolute_error, silhouette_score\n",
    "from sklearn.model_selection import train_test_split\n",
    "from sklearn.preprocessing import StandardScaler\n",
    "from sklearn.metrics import mean_squared_error\n",
    "from sklearn.ensemble import RandomForestClassifier, RandomForestRegressor\n",
    "\n",
    "from sklearn.feature_selection import SelectKBest, f_regression, f_classif, RFE, SelectFromModel\n",
    "from sklearn.metrics import mean_squared_error\n"
   ]
  },
  {
   "cell_type": "code",
   "execution_count": 4,
   "metadata": {},
   "outputs": [
    {
     "data": {
      "text/html": [
       "<div>\n",
       "<style scoped>\n",
       "    .dataframe tbody tr th:only-of-type {\n",
       "        vertical-align: middle;\n",
       "    }\n",
       "\n",
       "    .dataframe tbody tr th {\n",
       "        vertical-align: top;\n",
       "    }\n",
       "\n",
       "    .dataframe thead th {\n",
       "        text-align: right;\n",
       "    }\n",
       "</style>\n",
       "<table border=\"1\" class=\"dataframe\">\n",
       "  <thead>\n",
       "    <tr style=\"text-align: right;\">\n",
       "      <th></th>\n",
       "      <th></th>\n",
       "      <th>o</th>\n",
       "      <th>h</th>\n",
       "      <th>l</th>\n",
       "      <th>c</th>\n",
       "      <th>v</th>\n",
       "      <th>n</th>\n",
       "      <th>vw</th>\n",
       "      <th>diff</th>\n",
       "      <th>emaS</th>\n",
       "      <th>emaM</th>\n",
       "      <th>...</th>\n",
       "      <th>time_embed_month_sin</th>\n",
       "      <th>time_embed_month_cos</th>\n",
       "      <th>time_embed_year_sin</th>\n",
       "      <th>time_embed_year_cos</th>\n",
       "      <th>market_correlation</th>\n",
       "      <th>market_long_term_trend</th>\n",
       "      <th>market_short_term_trend</th>\n",
       "      <th>market_change</th>\n",
       "      <th>alpha</th>\n",
       "      <th>beta</th>\n",
       "    </tr>\n",
       "    <tr>\n",
       "      <th>t</th>\n",
       "      <th>symbol</th>\n",
       "      <th></th>\n",
       "      <th></th>\n",
       "      <th></th>\n",
       "      <th></th>\n",
       "      <th></th>\n",
       "      <th></th>\n",
       "      <th></th>\n",
       "      <th></th>\n",
       "      <th></th>\n",
       "      <th></th>\n",
       "      <th></th>\n",
       "      <th></th>\n",
       "      <th></th>\n",
       "      <th></th>\n",
       "      <th></th>\n",
       "      <th></th>\n",
       "      <th></th>\n",
       "      <th></th>\n",
       "      <th></th>\n",
       "      <th></th>\n",
       "      <th></th>\n",
       "    </tr>\n",
       "  </thead>\n",
       "  <tbody>\n",
       "    <tr>\n",
       "      <th>2018-01-02 09:00:00</th>\n",
       "      <th>BABA</th>\n",
       "      <td>173.46</td>\n",
       "      <td>173.90</td>\n",
       "      <td>173.03</td>\n",
       "      <td>173.77</td>\n",
       "      <td>12094</td>\n",
       "      <td>92</td>\n",
       "      <td>173.478710</td>\n",
       "      <td>1.004939</td>\n",
       "      <td>1.000886</td>\n",
       "      <td>1.000067</td>\n",
       "      <td>...</td>\n",
       "      <td>0.000000</td>\n",
       "      <td>1.000000</td>\n",
       "      <td>0.000000</td>\n",
       "      <td>1.000000</td>\n",
       "      <td>NaN</td>\n",
       "      <td>NaN</td>\n",
       "      <td>NaN</td>\n",
       "      <td>NaN</td>\n",
       "      <td>NaN</td>\n",
       "      <td>NaN</td>\n",
       "    </tr>\n",
       "    <tr>\n",
       "      <th>2018-01-02 10:00:00</th>\n",
       "      <th>BABA</th>\n",
       "      <td>173.90</td>\n",
       "      <td>174.00</td>\n",
       "      <td>173.83</td>\n",
       "      <td>174.00</td>\n",
       "      <td>7456</td>\n",
       "      <td>28</td>\n",
       "      <td>173.896286</td>\n",
       "      <td>1.002407</td>\n",
       "      <td>1.001139</td>\n",
       "      <td>1.000127</td>\n",
       "      <td>...</td>\n",
       "      <td>0.008727</td>\n",
       "      <td>0.999962</td>\n",
       "      <td>0.000717</td>\n",
       "      <td>1.000000</td>\n",
       "      <td>1.000000</td>\n",
       "      <td>1.000046</td>\n",
       "      <td>1.000046</td>\n",
       "      <td>NaN</td>\n",
       "      <td>NaN</td>\n",
       "      <td>NaN</td>\n",
       "    </tr>\n",
       "    <tr>\n",
       "      <th>2018-01-02 11:00:00</th>\n",
       "      <th>BABA</th>\n",
       "      <td>174.15</td>\n",
       "      <td>174.70</td>\n",
       "      <td>174.02</td>\n",
       "      <td>174.58</td>\n",
       "      <td>9966</td>\n",
       "      <td>93</td>\n",
       "      <td>174.341312</td>\n",
       "      <td>1.002559</td>\n",
       "      <td>1.001376</td>\n",
       "      <td>1.000190</td>\n",
       "      <td>...</td>\n",
       "      <td>0.017452</td>\n",
       "      <td>0.999848</td>\n",
       "      <td>0.001435</td>\n",
       "      <td>0.999999</td>\n",
       "      <td>0.895350</td>\n",
       "      <td>1.000505</td>\n",
       "      <td>1.000540</td>\n",
       "      <td>0.697924</td>\n",
       "      <td>NaN</td>\n",
       "      <td>NaN</td>\n",
       "    </tr>\n",
       "    <tr>\n",
       "      <th>2018-01-02 12:00:00</th>\n",
       "      <th>BABA</th>\n",
       "      <td>174.50</td>\n",
       "      <td>174.98</td>\n",
       "      <td>174.25</td>\n",
       "      <td>174.72</td>\n",
       "      <td>65516</td>\n",
       "      <td>405</td>\n",
       "      <td>174.598031</td>\n",
       "      <td>1.001473</td>\n",
       "      <td>1.001392</td>\n",
       "      <td>1.000223</td>\n",
       "      <td>...</td>\n",
       "      <td>0.026177</td>\n",
       "      <td>0.999657</td>\n",
       "      <td>0.002152</td>\n",
       "      <td>0.999998</td>\n",
       "      <td>0.933935</td>\n",
       "      <td>1.000610</td>\n",
       "      <td>1.000648</td>\n",
       "      <td>0.417496</td>\n",
       "      <td>NaN</td>\n",
       "      <td>NaN</td>\n",
       "    </tr>\n",
       "    <tr>\n",
       "      <th>2018-01-02 13:00:00</th>\n",
       "      <th>BABA</th>\n",
       "      <td>174.68</td>\n",
       "      <td>175.33</td>\n",
       "      <td>174.40</td>\n",
       "      <td>175.00</td>\n",
       "      <td>105976</td>\n",
       "      <td>696</td>\n",
       "      <td>174.928519</td>\n",
       "      <td>1.001893</td>\n",
       "      <td>1.001475</td>\n",
       "      <td>1.000265</td>\n",
       "      <td>...</td>\n",
       "      <td>0.034899</td>\n",
       "      <td>0.999391</td>\n",
       "      <td>0.002869</td>\n",
       "      <td>0.999996</td>\n",
       "      <td>0.963070</td>\n",
       "      <td>1.000622</td>\n",
       "      <td>1.000650</td>\n",
       "      <td>0.082915</td>\n",
       "      <td>NaN</td>\n",
       "      <td>NaN</td>\n",
       "    </tr>\n",
       "  </tbody>\n",
       "</table>\n",
       "<p>5 rows × 66 columns</p>\n",
       "</div>"
      ],
      "text/plain": [
       "                                 o       h       l       c       v    n  \\\n",
       "t                   symbol                                                \n",
       "2018-01-02 09:00:00 BABA    173.46  173.90  173.03  173.77   12094   92   \n",
       "2018-01-02 10:00:00 BABA    173.90  174.00  173.83  174.00    7456   28   \n",
       "2018-01-02 11:00:00 BABA    174.15  174.70  174.02  174.58    9966   93   \n",
       "2018-01-02 12:00:00 BABA    174.50  174.98  174.25  174.72   65516  405   \n",
       "2018-01-02 13:00:00 BABA    174.68  175.33  174.40  175.00  105976  696   \n",
       "\n",
       "                                    vw      diff      emaS      emaM  ...  \\\n",
       "t                   symbol                                            ...   \n",
       "2018-01-02 09:00:00 BABA    173.478710  1.004939  1.000886  1.000067  ...   \n",
       "2018-01-02 10:00:00 BABA    173.896286  1.002407  1.001139  1.000127  ...   \n",
       "2018-01-02 11:00:00 BABA    174.341312  1.002559  1.001376  1.000190  ...   \n",
       "2018-01-02 12:00:00 BABA    174.598031  1.001473  1.001392  1.000223  ...   \n",
       "2018-01-02 13:00:00 BABA    174.928519  1.001893  1.001475  1.000265  ...   \n",
       "\n",
       "                            time_embed_month_sin  time_embed_month_cos  \\\n",
       "t                   symbol                                               \n",
       "2018-01-02 09:00:00 BABA                0.000000              1.000000   \n",
       "2018-01-02 10:00:00 BABA                0.008727              0.999962   \n",
       "2018-01-02 11:00:00 BABA                0.017452              0.999848   \n",
       "2018-01-02 12:00:00 BABA                0.026177              0.999657   \n",
       "2018-01-02 13:00:00 BABA                0.034899              0.999391   \n",
       "\n",
       "                            time_embed_year_sin  time_embed_year_cos  \\\n",
       "t                   symbol                                             \n",
       "2018-01-02 09:00:00 BABA               0.000000             1.000000   \n",
       "2018-01-02 10:00:00 BABA               0.000717             1.000000   \n",
       "2018-01-02 11:00:00 BABA               0.001435             0.999999   \n",
       "2018-01-02 12:00:00 BABA               0.002152             0.999998   \n",
       "2018-01-02 13:00:00 BABA               0.002869             0.999996   \n",
       "\n",
       "                            market_correlation  market_long_term_trend  \\\n",
       "t                   symbol                                               \n",
       "2018-01-02 09:00:00 BABA                   NaN                     NaN   \n",
       "2018-01-02 10:00:00 BABA              1.000000                1.000046   \n",
       "2018-01-02 11:00:00 BABA              0.895350                1.000505   \n",
       "2018-01-02 12:00:00 BABA              0.933935                1.000610   \n",
       "2018-01-02 13:00:00 BABA              0.963070                1.000622   \n",
       "\n",
       "                            market_short_term_trend  market_change  alpha  \\\n",
       "t                   symbol                                                  \n",
       "2018-01-02 09:00:00 BABA                        NaN            NaN    NaN   \n",
       "2018-01-02 10:00:00 BABA                   1.000046            NaN    NaN   \n",
       "2018-01-02 11:00:00 BABA                   1.000540       0.697924    NaN   \n",
       "2018-01-02 12:00:00 BABA                   1.000648       0.417496    NaN   \n",
       "2018-01-02 13:00:00 BABA                   1.000650       0.082915    NaN   \n",
       "\n",
       "                            beta  \n",
       "t                   symbol        \n",
       "2018-01-02 09:00:00 BABA     NaN  \n",
       "2018-01-02 10:00:00 BABA     NaN  \n",
       "2018-01-02 11:00:00 BABA     NaN  \n",
       "2018-01-02 12:00:00 BABA     NaN  \n",
       "2018-01-02 13:00:00 BABA     NaN  \n",
       "\n",
       "[5 rows x 66 columns]"
      ]
     },
     "execution_count": 4,
     "metadata": {},
     "output_type": "execute_result"
    }
   ],
   "source": [
    "df = pd.read_csv('./final_dataset.csv').drop(columns=['Unnamed: 0'])\n",
    "df['t'] = pd.to_datetime(df['t'])\n",
    "df = df.set_index(['t', 'symbol'])\n",
    "df = df.sort_index()\n",
    "df.head()"
   ]
  },
  {
   "cell_type": "code",
   "execution_count": 102,
   "metadata": {},
   "outputs": [
    {
     "name": "stderr",
     "output_type": "stream",
     "text": [
      "/var/folders/4z/l7kc3ncn7g3628qd59lkh1km0000gn/T/ipykernel_1624/1698103233.py:1: FutureWarning: Dropping of nuisance columns in rolling operations is deprecated; in a future version this will raise TypeError. Select only valid columns before calling the operation. Dropped columns were Index(['category'], dtype='object')\n",
      "  np.log(df.groupby('symbol').get_group('TSLA').ewm(span=500).mean().abs()['pc12']).plot()\n"
     ]
    },
    {
     "data": {
      "text/plain": [
       "<AxesSubplot:xlabel='t,symbol'>"
      ]
     },
     "execution_count": 102,
     "metadata": {},
     "output_type": "execute_result"
    },
    {
     "data": {
      "image/png": "[encoded data removed]",
      "text/plain": [
       "<Figure size 432x288 with 1 Axes>"
      ]
     },
     "metadata": {
      "needs_background": "light"
     },
     "output_type": "display_data"
    }
   ],
   "source": [
    "np.log(df.groupby('symbol').get_group('TSLA').ewm(span=500).mean().abs()['pc12']).plot()"
   ]
  },
  {
   "cell_type": "code",
   "execution_count": 135,
   "metadata": {},
   "outputs": [
    {
     "data": {
      "text/plain": [
       "<AxesSubplot:>"
      ]
     },
     "execution_count": 135,
     "metadata": {},
     "output_type": "execute_result"
    },
    {
     "data": {
      "image/png": "[encoded data removed]",
      "text/plain": [
       "<Figure size 432x288 with 1 Axes>"
      ]
     },
     "metadata": {
      "needs_background": "light"
     },
     "output_type": "display_data"
    }
   ],
   "source": [
    "df['pc12'].hist(bins=50)"
   ]
  },
  {
   "cell_type": "code",
   "execution_count": 110,
   "metadata": {},
   "outputs": [
    {
     "data": {
      "text/plain": [
       "t                    symbol\n",
       "2020-08-28 16:00:00  AAPL     -184.750071\n",
       "2020-08-28 23:00:00  AAPL     -184.596963\n",
       "2020-08-28 19:00:00  AAPL     -184.265316\n",
       "2020-08-28 15:00:00  AAPL     -184.231121\n",
       "2020-08-28 18:00:00  AAPL     -184.055697\n",
       "2020-08-28 17:00:00  AAPL     -183.823395\n",
       "2020-08-28 22:00:00  AAPL     -183.693278\n",
       "2020-08-28 14:00:00  AAPL     -183.454955\n",
       "2020-08-28 20:00:00  AAPL     -183.117767\n",
       "2020-08-28 21:00:00  AAPL     -183.108576\n",
       "2020-08-28 13:00:00  AAPL     -182.843224\n",
       "2020-08-28 12:00:00  AAPL     -182.328986\n",
       "2022-07-15 23:00:00  GOOG     -167.303292\n",
       "2022-07-15 21:00:00  GOOG     -166.804772\n",
       "2022-07-15 20:00:00  GOOG     -166.225505\n",
       "2022-07-15 19:00:00  GOOG     -165.731233\n",
       "2022-07-15 18:00:00  GOOG     -165.239768\n",
       "2022-07-15 17:00:00  GOOG     -164.780019\n",
       "2022-07-15 15:00:00  GOOG     -164.267377\n",
       "2022-07-15 16:00:00  GOOG     -164.259897\n",
       "2022-07-15 12:00:00  GOOG     -163.780775\n",
       "2022-07-15 14:00:00  GOOG     -163.727541\n",
       "2021-07-19 12:00:00  NVDA     -163.433484\n",
       "2022-07-15 11:00:00  GOOG     -163.333145\n",
       "2022-07-15 13:00:00  GOOG     -163.269499\n",
       "2021-07-19 13:00:00  NVDA     -152.041983\n",
       "2021-07-19 19:00:00  NVDA     -142.400379\n",
       "2021-07-19 20:00:00  NVDA     -142.183085\n",
       "2021-07-19 18:00:00  NVDA     -142.063131\n",
       "2021-07-19 23:00:00  NVDA     -141.869938\n",
       "2021-07-19 22:00:00  NVDA     -141.862629\n",
       "2021-07-19 14:00:00  NVDA     -141.818354\n",
       "2021-07-19 21:00:00  NVDA     -141.728519\n",
       "2021-07-19 17:00:00  NVDA     -141.536773\n",
       "2021-07-19 15:00:00  NVDA     -141.412578\n",
       "2021-07-19 16:00:00  NVDA     -140.285570\n",
       "2022-06-03 23:00:00  AMZN     -127.724320\n",
       "2022-06-03 22:00:00  AMZN     -127.321604\n",
       "2022-06-03 21:00:00  AMZN     -126.925589\n",
       "2022-06-03 20:00:00  AMZN     -126.587235\n",
       "2022-06-03 19:00:00  AMZN     -126.097743\n",
       "2022-06-03 18:00:00  AMZN     -125.718108\n",
       "2022-06-03 12:00:00  AMZN     -125.569595\n",
       "2022-06-03 17:00:00  AMZN     -125.543330\n",
       "2022-06-03 13:00:00  AMZN     -125.384514\n",
       "2022-06-03 16:00:00  AMZN     -125.205590\n",
       "2022-06-03 14:00:00  AMZN     -124.969385\n",
       "2022-06-03 15:00:00  AMZN     -124.876171\n",
       "2022-08-24 23:00:00  TSLA     -115.202887\n",
       "2022-08-24 22:00:00  TSLA     -115.130406\n",
       "Name: pc12, dtype: float64"
      ]
     },
     "execution_count": 110,
     "metadata": {},
     "output_type": "execute_result"
    }
   ],
   "source": [
    "df.reset_index()\n",
    "df = df.sort_values('pc12')\n",
    "df['pc12'].head(50)"
   ]
  },
  {
   "cell_type": "code",
   "execution_count": 106,
   "metadata": {},
   "outputs": [
    {
     "data": {
      "text/plain": [
       "t                    symbol\n",
       "2023-02-01 10:00:00  META      51.484519\n",
       "2023-02-01 20:00:00  META      52.084823\n",
       "2023-02-01 12:00:00  META      52.233970\n",
       "2023-02-01 13:00:00  META      52.360424\n",
       "2023-02-01 19:00:00  META      52.801748\n",
       "Name: pc12, dtype: float64"
      ]
     },
     "execution_count": 106,
     "metadata": {},
     "output_type": "execute_result"
    }
   ],
   "source": [
    "df['pc12'].tail()"
   ]
  },
  {
   "cell_type": "code",
   "execution_count": 95,
   "metadata": {},
   "outputs": [],
   "source": [
    "df.sort_values('pc12')\n",
    "top_value = df['pc12'].quantile(0.95)\n",
    "bottom_value = df['pc12'].quantile(0.05)\n",
    "\n",
    "df['category'] = 'middle'\n",
    "df.loc[df['pc12'] > top_value, 'category'] = 'top'\n",
    "df.loc[df['pc12'] < bottom_value, 'category'] = 'bottom'"
   ]
  },
  {
   "cell_type": "code",
   "execution_count": 180,
   "metadata": {},
   "outputs": [],
   "source": [
    "from scipy.stats import norm\n",
    "df = df.sort_index()\n",
    "\n",
    "# Define the threshold percentile\n",
    "threshold_percentile = 4\n",
    "\n",
    "# Compute the rolling mean and standard deviation for each symbol\n",
    "df['rolling_mean'] = df.groupby('symbol')['pc12'].transform(lambda x: x.rolling(window=77).mean())\n",
    "df['rolling_std'] = df.groupby('symbol')['pc12'].transform(lambda x: x.rolling(window=77).std())\n",
    "\n",
    "# Compute the upper and lower threshold values for each symbol\n",
    "df['upper_threshold'] = df['rolling_mean'] + df['rolling_std'] * norm.ppf(1 - threshold_percentile / 100)\n",
    "df['lower_threshold'] = df['rolling_mean'] - df['rolling_std'] * norm.ppf(1 - threshold_percentile / 100)\n",
    "\n",
    "# Assign the category based on the thresholds\n",
    "df['category'] = 'middle'\n",
    "df.loc[df['pc12'] > df['upper_threshold'], 'category'] = 'top'\n",
    "df.loc[df['pc12'] < df['lower_threshold'], 'category'] = 'bottom'\n",
    "\n",
    "df['category'] = df['category'].astype('category')\n",
    "\n",
    "# Drop the intermediate columns\n",
    "df.drop(['rolling_mean', 'rolling_std', 'upper_threshold', 'lower_threshold'], axis=1, inplace=True)"
   ]
  },
  {
   "cell_type": "code",
   "execution_count": 181,
   "metadata": {},
   "outputs": [
    {
     "data": {
      "text/plain": [
       "category\n",
       "middle    0.880318\n",
       "bottom    0.061377\n",
       "top       0.058305\n",
       "dtype: float64"
      ]
     },
     "execution_count": 181,
     "metadata": {},
     "output_type": "execute_result"
    }
   ],
   "source": [
    "df.value_counts('category') / len(df)"
   ]
  },
  {
   "cell_type": "code",
   "execution_count": 182,
   "metadata": {},
   "outputs": [
    {
     "name": "stdout",
     "output_type": "stream",
     "text": [
      "80% division timestamp: 2022-03-14 01:00:00\n"
     ]
    }
   ],
   "source": [
    "df.index.get_level_values('t').min()\n",
    "df.index.get_level_values('t').max()\n",
    "\n",
    "timestamps = df.index.get_level_values('t')\n",
    "min_timestamp = timestamps.min()\n",
    "max_timestamp = timestamps.max()\n",
    "\n",
    "# Find the timestamp that is 80% of the way between the min and max\n",
    "threshold_timestamp = min_timestamp + 0.8 * (max_timestamp - min_timestamp)\n",
    "print(\"80% division timestamp:\", threshold_timestamp)"
   ]
  },
  {
   "cell_type": "markdown",
   "metadata": {},
   "source": [
    "---"
   ]
  },
  {
   "cell_type": "code",
   "execution_count": 183,
   "metadata": {},
   "outputs": [],
   "source": [
    "\"\"\"\n",
    "columns = [\n",
    "    'pc', 'emaL', 'emaS', 'mvS', 'rsi', 'macds', 'lavs', 'Net_Profit_Margin', 'market_correlation',\n",
    "    'Gross_Margin', 'P/E', 'time_embed_year_sin', 'time_embed_year_cos', 'financial_data_age', 'obvmL'\n",
    "]\n",
    "\"\"\"\n",
    "columns = df.columns"
   ]
  },
  {
   "cell_type": "code",
   "execution_count": 184,
   "metadata": {},
   "outputs": [],
   "source": [
    "data = df[columns].dropna()\n",
    "data_train = data[data.index.get_level_values('t') <= threshold_timestamp]\n",
    "data_test = data[data.index.get_level_values('t') > threshold_timestamp]"
   ]
  },
  {
   "cell_type": "code",
   "execution_count": 185,
   "metadata": {},
   "outputs": [
    {
     "name": "stdout",
     "output_type": "stream",
     "text": [
      "(28485, 69)\n"
     ]
    },
    {
     "name": "stderr",
     "output_type": "stream",
     "text": [
      "/var/folders/4z/l7kc3ncn7g3628qd59lkh1km0000gn/T/ipykernel_1624/2876518345.py:5: FutureWarning: The frame.append method is deprecated and will be removed from pandas in a future version. Use pandas.concat instead.\n",
      "  downsampled_df = downsampled_df.append(sampled_rows)\n",
      "/var/folders/4z/l7kc3ncn7g3628qd59lkh1km0000gn/T/ipykernel_1624/2876518345.py:5: FutureWarning: The frame.append method is deprecated and will be removed from pandas in a future version. Use pandas.concat instead.\n",
      "  downsampled_df = downsampled_df.append(sampled_rows)\n",
      "/var/folders/4z/l7kc3ncn7g3628qd59lkh1km0000gn/T/ipykernel_1624/2876518345.py:5: FutureWarning: The frame.append method is deprecated and will be removed from pandas in a future version. Use pandas.concat instead.\n",
      "  downsampled_df = downsampled_df.append(sampled_rows)\n"
     ]
    },
    {
     "data": {
      "text/plain": [
       "category\n",
       "bottom    9495\n",
       "middle    9495\n",
       "top       9495\n",
       "dtype: int64"
      ]
     },
     "execution_count": 185,
     "metadata": {},
     "output_type": "execute_result"
    }
   ],
   "source": [
    "k = data_train.value_counts('category').min()\n",
    "downsampled_df = pd.DataFrame()\n",
    "for category in data_train['category'].unique():\n",
    "    sampled_rows = data_train[data_train['category'] == category].sample(k)\n",
    "    downsampled_df = downsampled_df.append(sampled_rows)\n",
    "\n",
    "print(downsampled_df.shape)\n",
    "downsampled_df.value_counts('category')"
   ]
  },
  {
   "cell_type": "code",
   "execution_count": 186,
   "metadata": {},
   "outputs": [
    {
     "name": "stdout",
     "output_type": "stream",
     "text": [
      "(28485, 67)\n",
      "(50098, 67)\n",
      "(28485,)\n",
      "(50098,)\n"
     ]
    }
   ],
   "source": [
    "# X = data[columns].drop(columns=['pc12'])\n",
    "# y = data['pc12']\n",
    "\n",
    "X_train = downsampled_df[columns].drop(columns=['pc12', 'category'])\n",
    "y_train = downsampled_df['category']\n",
    "X_test = data_test[columns].drop(columns=['pc12', 'category'])\n",
    "y_test = data_test['category']\n",
    "\n",
    "labels_scaler = StandardScaler()\n",
    "X_train_scaled = pd.DataFrame(labels_scaler.fit_transform(X_train), columns=X_train.columns)\n",
    "X_test_scaled = pd.DataFrame(labels_scaler.transform(X_test), columns=X_train.columns)\n",
    "\n",
    "# targets_scaler = StandardScaler()\n",
    "# y_train_scaled = targets_scaler.fit_transform(y_train.to_numpy().reshape(-1, 1))\n",
    "# y_test_scaled = targets_scaler.transform(y_test.to_numpy().reshape(-1, 1))\n",
    "\n",
    "print(X_train_scaled.shape)\n",
    "print(X_test_scaled.shape)\n",
    "print(y_train.shape)\n",
    "print(y_test.shape)"
   ]
  },
  {
   "cell_type": "code",
   "execution_count": 187,
   "metadata": {},
   "outputs": [
    {
     "data": {
      "text/plain": [
       "o                0\n",
       "h                0\n",
       "l                0\n",
       "c                0\n",
       "v                0\n",
       "                ..\n",
       "market_change    0\n",
       "alpha            0\n",
       "beta             0\n",
       "max_threshold    0\n",
       "min_threshold    0\n",
       "Length: 67, dtype: int64"
      ]
     },
     "execution_count": 187,
     "metadata": {},
     "output_type": "execute_result"
    }
   ],
   "source": [
    "X_train_scaled.isna().sum()"
   ]
  },
  {
   "cell_type": "code",
   "execution_count": null,
   "metadata": {},
   "outputs": [],
   "source": [
    "cat.cv(\n",
    "    cat.Pool(\n",
    "        X_train_scaled[[\n",
    "            'emaS', 'emaM', 'emaL', 'rsi', 'obvSH', 'macd', 'signal', 'market_long_term_trend', \n",
    "            'market_short_term_trend', 'alpha'\n",
    "        ]],\n",
    "        y_train\n",
    "    ),\n",
    "    {\n",
    "        'learning_rate': 0.001,\n",
    "        'iterations': 40000,\n",
    "        'loss_function': 'CrossEntropy',\n",
    "        # 'early_stopping_rounds': 100,\n",
    "    },\n",
    "    fold_count=5,\n",
    "    shuffle=False,\n",
    "    plot=True,\n",
    "    verbose=2000\n",
    ")"
   ]
  },
  {
   "cell_type": "code",
   "execution_count": 190,
   "metadata": {},
   "outputs": [
    {
     "data": {
      "application/vnd.jupyter.widget-view+json": {
       "model_id": "682107d6283f4149b50fbc3d567f8f79",
       "version_major": 2,
       "version_minor": 0
      },
      "text/plain": [
       "MetricVisualizer(layout=Layout(align_self='stretch', height='500px'))"
      ]
     },
     "metadata": {},
     "output_type": "display_data"
    },
    {
     "ename": "CatBoostError",
     "evalue": "catboost/private/libs/target/data_providers.cpp:612: Currently only multi-regression, multilabel and survival objectives work with multidimensional target",
     "output_type": "error",
     "traceback": [
      "\u001b[0;31m---------------------------------------------------------------------------\u001b[0m",
      "\u001b[0;31mCatBoostError\u001b[0m                             Traceback (most recent call last)",
      "\u001b[0;32m/var/folders/4z/l7kc3ncn7g3628qd59lkh1km0000gn/T/ipykernel_1624/1388555879.py\u001b[0m in \u001b[0;36m<module>\u001b[0;34m\u001b[0m\n\u001b[1;32m     12\u001b[0m     \u001b[0;34m'market_short_term_trend'\u001b[0m\u001b[0;34m,\u001b[0m \u001b[0;34m'alpha'\u001b[0m\u001b[0;34m\u001b[0m\u001b[0;34m\u001b[0m\u001b[0m\n\u001b[1;32m     13\u001b[0m ]\n\u001b[0;32m---> 14\u001b[0;31m model.fit(\n\u001b[0m\u001b[1;32m     15\u001b[0m     cat.Pool(\n\u001b[1;32m     16\u001b[0m         \u001b[0mX_train_scaled\u001b[0m\u001b[0;34m[\u001b[0m\u001b[0mxcols\u001b[0m\u001b[0;34m]\u001b[0m\u001b[0;34m,\u001b[0m\u001b[0;34m\u001b[0m\u001b[0;34m\u001b[0m\u001b[0m\n",
      "\u001b[0;32m~/mambaforge/envs/TradingStrategies2/lib/python3.9/site-packages/catboost/core.py\u001b[0m in \u001b[0;36mfit\u001b[0;34m(self, X, y, cat_features, text_features, embedding_features, sample_weight, baseline, use_best_model, eval_set, verbose, logging_level, plot, plot_file, column_description, verbose_eval, metric_period, silent, early_stopping_rounds, save_snapshot, snapshot_file, snapshot_interval, init_model, callbacks, log_cout, log_cerr)\u001b[0m\n\u001b[1;32m   5126\u001b[0m             \u001b[0mCatBoostClassifier\u001b[0m\u001b[0;34m.\u001b[0m\u001b[0m_check_is_compatible_loss\u001b[0m\u001b[0;34m(\u001b[0m\u001b[0mparams\u001b[0m\u001b[0;34m[\u001b[0m\u001b[0;34m'loss_function'\u001b[0m\u001b[0;34m]\u001b[0m\u001b[0;34m)\u001b[0m\u001b[0;34m\u001b[0m\u001b[0;34m\u001b[0m\u001b[0m\n\u001b[1;32m   5127\u001b[0m \u001b[0;34m\u001b[0m\u001b[0m\n\u001b[0;32m-> 5128\u001b[0;31m         self._fit(X, y, cat_features, text_features, embedding_features, None, sample_weight, None, None, None, None, baseline, use_best_model,\n\u001b[0m\u001b[1;32m   5129\u001b[0m                   \u001b[0meval_set\u001b[0m\u001b[0;34m,\u001b[0m \u001b[0mverbose\u001b[0m\u001b[0;34m,\u001b[0m \u001b[0mlogging_level\u001b[0m\u001b[0;34m,\u001b[0m \u001b[0mplot\u001b[0m\u001b[0;34m,\u001b[0m \u001b[0mplot_file\u001b[0m\u001b[0;34m,\u001b[0m \u001b[0mcolumn_description\u001b[0m\u001b[0;34m,\u001b[0m \u001b[0mverbose_eval\u001b[0m\u001b[0;34m,\u001b[0m \u001b[0mmetric_period\u001b[0m\u001b[0;34m,\u001b[0m\u001b[0;34m\u001b[0m\u001b[0;34m\u001b[0m\u001b[0m\n\u001b[1;32m   5130\u001b[0m                   silent, early_stopping_rounds, save_snapshot, snapshot_file, snapshot_interval, init_model, callbacks, log_cout, log_cerr)\n",
      "\u001b[0;32m~/mambaforge/envs/TradingStrategies2/lib/python3.9/site-packages/catboost/core.py\u001b[0m in \u001b[0;36m_fit\u001b[0;34m(self, X, y, cat_features, text_features, embedding_features, pairs, sample_weight, group_id, group_weight, subgroup_id, pairs_weight, baseline, use_best_model, eval_set, verbose, logging_level, plot, plot_file, column_description, verbose_eval, metric_period, silent, early_stopping_rounds, save_snapshot, snapshot_file, snapshot_interval, init_model, callbacks, log_cout, log_cerr)\u001b[0m\n\u001b[1;32m   2353\u001b[0m         \u001b[0;32mwith\u001b[0m \u001b[0mlog_fixup\u001b[0m\u001b[0;34m(\u001b[0m\u001b[0mlog_cout\u001b[0m\u001b[0;34m,\u001b[0m \u001b[0mlog_cerr\u001b[0m\u001b[0;34m)\u001b[0m\u001b[0;34m,\u001b[0m\u001b[0;31m \u001b[0m\u001b[0;31m\\\u001b[0m\u001b[0;34m\u001b[0m\u001b[0;34m\u001b[0m\u001b[0m\n\u001b[1;32m   2354\u001b[0m             \u001b[0mplot_wrapper\u001b[0m\u001b[0;34m(\u001b[0m\u001b[0mplot\u001b[0m\u001b[0;34m,\u001b[0m \u001b[0mplot_file\u001b[0m\u001b[0;34m,\u001b[0m \u001b[0;34m'Training plots'\u001b[0m\u001b[0;34m,\u001b[0m \u001b[0;34m[\u001b[0m\u001b[0m_get_train_dir\u001b[0m\u001b[0;34m(\u001b[0m\u001b[0mself\u001b[0m\u001b[0;34m.\u001b[0m\u001b[0mget_params\u001b[0m\u001b[0;34m(\u001b[0m\u001b[0;34m)\u001b[0m\u001b[0;34m)\u001b[0m\u001b[0;34m]\u001b[0m\u001b[0;34m)\u001b[0m\u001b[0;34m:\u001b[0m\u001b[0;34m\u001b[0m\u001b[0;34m\u001b[0m\u001b[0m\n\u001b[0;32m-> 2355\u001b[0;31m             self._train(\n\u001b[0m\u001b[1;32m   2356\u001b[0m                 \u001b[0mtrain_pool\u001b[0m\u001b[0;34m,\u001b[0m\u001b[0;34m\u001b[0m\u001b[0;34m\u001b[0m\u001b[0m\n\u001b[1;32m   2357\u001b[0m                 \u001b[0mtrain_params\u001b[0m\u001b[0;34m[\u001b[0m\u001b[0;34m\"eval_sets\"\u001b[0m\u001b[0;34m]\u001b[0m\u001b[0;34m,\u001b[0m\u001b[0;34m\u001b[0m\u001b[0;34m\u001b[0m\u001b[0m\n",
      "\u001b[0;32m~/mambaforge/envs/TradingStrategies2/lib/python3.9/site-packages/catboost/core.py\u001b[0m in \u001b[0;36m_train\u001b[0;34m(self, train_pool, test_pool, params, allow_clear_pool, init_model)\u001b[0m\n\u001b[1;32m   1757\u001b[0m \u001b[0;34m\u001b[0m\u001b[0m\n\u001b[1;32m   1758\u001b[0m     \u001b[0;32mdef\u001b[0m \u001b[0m_train\u001b[0m\u001b[0;34m(\u001b[0m\u001b[0mself\u001b[0m\u001b[0;34m,\u001b[0m \u001b[0mtrain_pool\u001b[0m\u001b[0;34m,\u001b[0m \u001b[0mtest_pool\u001b[0m\u001b[0;34m,\u001b[0m \u001b[0mparams\u001b[0m\u001b[0;34m,\u001b[0m \u001b[0mallow_clear_pool\u001b[0m\u001b[0;34m,\u001b[0m \u001b[0minit_model\u001b[0m\u001b[0;34m)\u001b[0m\u001b[0;34m:\u001b[0m\u001b[0;34m\u001b[0m\u001b[0;34m\u001b[0m\u001b[0m\n\u001b[0;32m-> 1759\u001b[0;31m         \u001b[0mself\u001b[0m\u001b[0;34m.\u001b[0m\u001b[0m_object\u001b[0m\u001b[0;34m.\u001b[0m\u001b[0m_train\u001b[0m\u001b[0;34m(\u001b[0m\u001b[0mtrain_pool\u001b[0m\u001b[0;34m,\u001b[0m \u001b[0mtest_pool\u001b[0m\u001b[0;34m,\u001b[0m \u001b[0mparams\u001b[0m\u001b[0;34m,\u001b[0m \u001b[0mallow_clear_pool\u001b[0m\u001b[0;34m,\u001b[0m \u001b[0minit_model\u001b[0m\u001b[0;34m.\u001b[0m\u001b[0m_object\u001b[0m \u001b[0;32mif\u001b[0m \u001b[0minit_model\u001b[0m \u001b[0;32melse\u001b[0m \u001b[0;32mNone\u001b[0m\u001b[0;34m)\u001b[0m\u001b[0;34m\u001b[0m\u001b[0;34m\u001b[0m\u001b[0m\n\u001b[0m\u001b[1;32m   1760\u001b[0m         \u001b[0mself\u001b[0m\u001b[0;34m.\u001b[0m\u001b[0m_set_trained_model_attributes\u001b[0m\u001b[0;34m(\u001b[0m\u001b[0;34m)\u001b[0m\u001b[0;34m\u001b[0m\u001b[0;34m\u001b[0m\u001b[0m\n\u001b[1;32m   1761\u001b[0m \u001b[0;34m\u001b[0m\u001b[0m\n",
      "\u001b[0;32m_catboost.pyx\u001b[0m in \u001b[0;36m_catboost._CatBoost._train\u001b[0;34m()\u001b[0m\n",
      "\u001b[0;32m_catboost.pyx\u001b[0m in \u001b[0;36m_catboost._CatBoost._train\u001b[0;34m()\u001b[0m\n",
      "\u001b[0;31mCatBoostError\u001b[0m: catboost/private/libs/target/data_providers.cpp:612: Currently only multi-regression, multilabel and survival objectives work with multidimensional target"
     ]
    }
   ],
   "source": [
    "model = cat.CatBoostClassifier(\n",
    "    iterations=40000,\n",
    "    learning_rate=0.1,\n",
    "    # early_stopping_rounds=1000,\n",
    "    loss_function='MultiClass',\n",
    "    classes_count=3,\n",
    "    verbose=1000\n",
    ")\n",
    "\n",
    "xcols = [\n",
    "    'emaS', 'emaM', 'emaL', 'rsi', 'obvSH', 'macd', 'signal', 'market_long_term_trend', \n",
    "    'market_short_term_trend', 'alpha'\n",
    "]\n",
    "model.fit(\n",
    "    cat.Pool(\n",
    "        X_train_scaled[xcols],\n",
    "        pd.get_dummies(y_train)\n",
    "    ),\n",
    "    eval_set=cat.Pool(X_test_scaled[xcols], pd.get_ y_test),\n",
    "    plot=True\n",
    ")"
   ]
  },
  {
   "cell_type": "code",
   "execution_count": 191,
   "metadata": {},
   "outputs": [],
   "source": [
    "pd.options.display.float_format = \"{:,.3f}\".format\n",
    "\n",
    "def plot_predictions(train_predictions, train_targets, test_predictions, test_targets):\n",
    "    plt.figure(figsize=(12, 6))\n",
    "    sn.set_style(\"whitegrid\")\n",
    "\n",
    "    plt.scatter(train_targets.flatten(), train_predictions.flatten(), alpha=0.5, label=\"Train\")\n",
    "    plt.scatter(test_targets.flatten(), test_predictions.flatten(), alpha=0.5, label=\"Test\")\n",
    "\n",
    "    targets = np.concatenate((train_targets, test_targets)).flatten()\n",
    "    predictions = np.concatenate((train_predictions, test_predictions)).flatten()\n",
    "\n",
    "    lin_reg = LinearRegression()\n",
    "    lin_reg.fit(targets.reshape(-1, 1), predictions.reshape(-1, 1))\n",
    "    y_pred_reg = lin_reg.predict(targets.reshape(-1, 1))\n",
    "\n",
    "    plt.plot(targets, y_pred_reg, color='red', linestyle='--', label='Linear regression')\n",
    "\n",
    "    plt.xlabel('Expected Value')\n",
    "    plt.ylabel('Predicted Value')\n",
    "    plt.title('Scatter Plot of Expected Value vs Predicted Value')\n",
    "    \n",
    "    # plt.xlim((-50, 50))\n",
    "    # plt.ylim((0, 5))\n",
    "    \n",
    "    plt.legend()\n",
    "    plt.show()\n",
    "\n",
    "def print_metrics(train_predictions, train_targets, test_predictions, test_targets):\n",
    "    results = {}\n",
    "\n",
    "    for name, pred, targ in zip(\n",
    "        [\"Train\", \"Test\"],\n",
    "        [train_predictions, test_predictions],\n",
    "        [train_targets, test_targets],\n",
    "    ):\n",
    "        results[name] = {\n",
    "            \"r2\": r2_score(targ.flatten(), pred.flatten()),\n",
    "            \"rmse\": np.sqrt(mean_squared_error(targ.flatten(), pred.flatten())),\n",
    "            \"mae\": mean_absolute_error(targ.flatten(), pred.flatten()),\n",
    "            \"mse\": mean_squared_error(targ.flatten(), pred.flatten()),\n",
    "        }\n",
    "\n",
    "    return pd.DataFrame(results)"
   ]
  },
  {
   "cell_type": "code",
   "execution_count": 192,
   "metadata": {},
   "outputs": [],
   "source": [
    "rf_classifier = RandomForestClassifier(n_estimators=100, random_state=42)\n",
    "rf_classifier.fit(X_train_scaled, y_train)\n",
    "y_pred = rf_classifier.predict(X_test_scaled)"
   ]
  },
  {
   "cell_type": "code",
   "execution_count": 193,
   "metadata": {},
   "outputs": [
    {
     "data": {
      "image/png": "[encoded data removed]",
      "text/plain": [
       "<Figure size 576x432 with 2 Axes>"
      ]
     },
     "metadata": {
      "needs_background": "light"
     },
     "output_type": "display_data"
    }
   ],
   "source": [
    "from sklearn.metrics import confusion_matrix\n",
    "\n",
    "cm = confusion_matrix(y_test, y_pred)\n",
    "\n",
    "# Plot confusion matrix\n",
    "fig, ax = plt.subplots(figsize=(8, 6))\n",
    "sn.heatmap(cm, annot=True, fmt=\"d\", cmap=\"YlGnBu\", ax=ax)\n",
    "ax.set_xlabel(\"Predicted Quintile\")\n",
    "ax.set_ylabel(\"Actual Quintile\")\n",
    "ax.set_title(\"Confusion Matrix\")\n",
    "plt.show()"
   ]
  },
  {
   "attachments": {},
   "cell_type": "markdown",
   "metadata": {},
   "source": [
    "---"
   ]
  },
  {
   "cell_type": "code",
   "execution_count": null,
   "metadata": {},
   "outputs": [],
   "source": []
  },
  {
   "cell_type": "code",
   "execution_count": 175,
   "metadata": {},
   "outputs": [
    {
     "name": "stdout",
     "output_type": "stream",
     "text": [
      "Columns selected by SelectKBest:\n",
      " -> ['emaS', 'emaM', 'emaL', 'rsi', 'obvSH', 'macd', 'signal', 'market_long_term_trend', 'market_short_term_trend', 'alpha']\n"
     ]
    }
   ],
   "source": [
    "kbest = SelectKBest(score_func=f_classif, k=10)\n",
    "X_train_kbest = kbest.fit_transform(X_train, y_train)\n",
    "X_test_kbest = kbest.transform(X_test)\n",
    "column_names_skb = X_train.columns[kbest.get_support()]\n",
    "print(f\"Columns selected by SelectKBest:\\n -> {list(column_names_skb)}\")"
   ]
  },
  {
   "cell_type": "code",
   "execution_count": 63,
   "metadata": {},
   "outputs": [
    {
     "name": "stdout",
     "output_type": "stream",
     "text": [
      "Fitting RF\n"
     ]
    },
    {
     "name": "stderr",
     "output_type": "stream",
     "text": [
      "[Parallel(n_jobs=-1)]: Using backend ThreadingBackend with 8 concurrent workers.\n",
      "[Parallel(n_jobs=-1)]: Done  34 tasks      | elapsed:   17.9s\n",
      "[Parallel(n_jobs=-1)]: Done 184 tasks      | elapsed:  1.5min\n"
     ]
    },
    {
     "name": "stdout",
     "output_type": "stream",
     "text": [
      "Selecting attrs\n",
      "Columns selected by feature importance: Index(['emaL', 'std', 'obvmS', 'obvmL', 'obvSH', 'lavgv', 'macd_std',\n",
      "       'financial_data_age', 'spy_value', 'time_embed_year_cos'],\n",
      "      dtype='object')\n"
     ]
    },
    {
     "name": "stderr",
     "output_type": "stream",
     "text": [
      "[Parallel(n_jobs=-1)]: Done 400 out of 400 | elapsed:  3.3min finished\n",
      "/Users/miquelsaula/mambaforge/envs/TradingStrategies2/lib/python3.9/site-packages/sklearn/base.py:443: UserWarning: X has feature names, but SelectFromModel was fitted without feature names\n",
      "  warnings.warn(\n",
      "/Users/miquelsaula/mambaforge/envs/TradingStrategies2/lib/python3.9/site-packages/sklearn/base.py:443: UserWarning: X has feature names, but SelectFromModel was fitted without feature names\n",
      "  warnings.warn(\n"
     ]
    }
   ],
   "source": [
    "model = RandomForestRegressor(\n",
    "    max_depth=5,\n",
    "    n_estimators=400,\n",
    "    min_samples_split=2,\n",
    "    verbose=True,\n",
    "    n_jobs=-1\n",
    ")\n",
    "\n",
    "print(\"Fitting RF\")\n",
    "model.fit(X_train, y_train)\n",
    "\n",
    "print(\"Selecting attrs\")\n",
    "selector = SelectFromModel(model, prefit=True, max_features=10)  # Choose the top 10 features\n",
    "X_train_importance = selector.transform(X_train)\n",
    "X_test_importance = selector.transform(X_test)\n",
    "\n",
    "column_names_importance = X.columns[selector.get_support()]\n",
    "print(\"Columns selected by feature importance:\", column_names_importance)"
   ]
  },
  {
   "cell_type": "code",
   "execution_count": 65,
   "metadata": {},
   "outputs": [
    {
     "name": "stderr",
     "output_type": "stream",
     "text": [
      "/Users/miquelsaula/mambaforge/envs/TradingStrategies2/lib/python3.9/site-packages/sklearn/feature_selection/_rfe.py:283: DataConversionWarning: A column-vector y was passed when a 1d array was expected. Please change the shape of y to (n_samples,), for example using ravel().\n",
      "  estimator.fit(X[:, features], y, **fit_params)\n",
      "[Parallel(n_jobs=-1)]: Using backend ThreadingBackend with 8 concurrent workers.\n",
      "[Parallel(n_jobs=-1)]: Done  34 tasks      | elapsed:   19.3s\n",
      "[Parallel(n_jobs=-1)]: Done  50 out of  50 | elapsed:   26.0s finished\n",
      "/Users/miquelsaula/mambaforge/envs/TradingStrategies2/lib/python3.9/site-packages/sklearn/feature_selection/_rfe.py:283: DataConversionWarning: A column-vector y was passed when a 1d array was expected. Please change the shape of y to (n_samples,), for example using ravel().\n",
      "  estimator.fit(X[:, features], y, **fit_params)\n",
      "[Parallel(n_jobs=-1)]: Using backend ThreadingBackend with 8 concurrent workers.\n",
      "[Parallel(n_jobs=-1)]: Done  34 tasks      | elapsed:   21.0s\n",
      "[Parallel(n_jobs=-1)]: Done  50 out of  50 | elapsed:   28.1s finished\n",
      "/Users/miquelsaula/mambaforge/envs/TradingStrategies2/lib/python3.9/site-packages/sklearn/feature_selection/_rfe.py:283: DataConversionWarning: A column-vector y was passed when a 1d array was expected. Please change the shape of y to (n_samples,), for example using ravel().\n",
      "  estimator.fit(X[:, features], y, **fit_params)\n",
      "[Parallel(n_jobs=-1)]: Using backend ThreadingBackend with 8 concurrent workers.\n",
      "[Parallel(n_jobs=-1)]: Done  34 tasks      | elapsed:   21.1s\n",
      "[Parallel(n_jobs=-1)]: Done  50 out of  50 | elapsed:   28.1s finished\n",
      "/Users/miquelsaula/mambaforge/envs/TradingStrategies2/lib/python3.9/site-packages/sklearn/feature_selection/_rfe.py:283: DataConversionWarning: A column-vector y was passed when a 1d array was expected. Please change the shape of y to (n_samples,), for example using ravel().\n",
      "  estimator.fit(X[:, features], y, **fit_params)\n",
      "[Parallel(n_jobs=-1)]: Using backend ThreadingBackend with 8 concurrent workers.\n",
      "[Parallel(n_jobs=-1)]: Done  34 tasks      | elapsed:   20.7s\n",
      "[Parallel(n_jobs=-1)]: Done  50 out of  50 | elapsed:   27.8s finished\n",
      "/Users/miquelsaula/mambaforge/envs/TradingStrategies2/lib/python3.9/site-packages/sklearn/feature_selection/_rfe.py:283: DataConversionWarning: A column-vector y was passed when a 1d array was expected. Please change the shape of y to (n_samples,), for example using ravel().\n",
      "  estimator.fit(X[:, features], y, **fit_params)\n",
      "[Parallel(n_jobs=-1)]: Using backend ThreadingBackend with 8 concurrent workers.\n",
      "[Parallel(n_jobs=-1)]: Done  34 tasks      | elapsed:   20.5s\n",
      "[Parallel(n_jobs=-1)]: Done  50 out of  50 | elapsed:   27.6s finished\n",
      "/Users/miquelsaula/mambaforge/envs/TradingStrategies2/lib/python3.9/site-packages/sklearn/feature_selection/_rfe.py:283: DataConversionWarning: A column-vector y was passed when a 1d array was expected. Please change the shape of y to (n_samples,), for example using ravel().\n",
      "  estimator.fit(X[:, features], y, **fit_params)\n",
      "[Parallel(n_jobs=-1)]: Using backend ThreadingBackend with 8 concurrent workers.\n",
      "[Parallel(n_jobs=-1)]: Done  34 tasks      | elapsed:   20.6s\n",
      "[Parallel(n_jobs=-1)]: Done  50 out of  50 | elapsed:   27.7s finished\n",
      "/Users/miquelsaula/mambaforge/envs/TradingStrategies2/lib/python3.9/site-packages/sklearn/feature_selection/_rfe.py:283: DataConversionWarning: A column-vector y was passed when a 1d array was expected. Please change the shape of y to (n_samples,), for example using ravel().\n",
      "  estimator.fit(X[:, features], y, **fit_params)\n",
      "[Parallel(n_jobs=-1)]: Using backend ThreadingBackend with 8 concurrent workers.\n",
      "[Parallel(n_jobs=-1)]: Done  34 tasks      | elapsed:   21.0s\n",
      "[Parallel(n_jobs=-1)]: Done  50 out of  50 | elapsed:   28.1s finished\n",
      "/Users/miquelsaula/mambaforge/envs/TradingStrategies2/lib/python3.9/site-packages/sklearn/feature_selection/_rfe.py:283: DataConversionWarning: A column-vector y was passed when a 1d array was expected. Please change the shape of y to (n_samples,), for example using ravel().\n",
      "  estimator.fit(X[:, features], y, **fit_params)\n",
      "[Parallel(n_jobs=-1)]: Using backend ThreadingBackend with 8 concurrent workers.\n",
      "[Parallel(n_jobs=-1)]: Done  34 tasks      | elapsed:   20.6s\n",
      "[Parallel(n_jobs=-1)]: Done  50 out of  50 | elapsed:   27.9s finished\n",
      "/Users/miquelsaula/mambaforge/envs/TradingStrategies2/lib/python3.9/site-packages/sklearn/feature_selection/_rfe.py:283: DataConversionWarning: A column-vector y was passed when a 1d array was expected. Please change the shape of y to (n_samples,), for example using ravel().\n",
      "  estimator.fit(X[:, features], y, **fit_params)\n",
      "[Parallel(n_jobs=-1)]: Using backend ThreadingBackend with 8 concurrent workers.\n",
      "[Parallel(n_jobs=-1)]: Done  34 tasks      | elapsed:   21.5s\n",
      "[Parallel(n_jobs=-1)]: Done  50 out of  50 | elapsed:   28.6s finished\n",
      "/Users/miquelsaula/mambaforge/envs/TradingStrategies2/lib/python3.9/site-packages/sklearn/feature_selection/_rfe.py:283: DataConversionWarning: A column-vector y was passed when a 1d array was expected. Please change the shape of y to (n_samples,), for example using ravel().\n",
      "  estimator.fit(X[:, features], y, **fit_params)\n",
      "[Parallel(n_jobs=-1)]: Using backend ThreadingBackend with 8 concurrent workers.\n",
      "[Parallel(n_jobs=-1)]: Done  34 tasks      | elapsed:   20.6s\n",
      "[Parallel(n_jobs=-1)]: Done  50 out of  50 | elapsed:   27.3s finished\n",
      "/Users/miquelsaula/mambaforge/envs/TradingStrategies2/lib/python3.9/site-packages/sklearn/feature_selection/_rfe.py:283: DataConversionWarning: A column-vector y was passed when a 1d array was expected. Please change the shape of y to (n_samples,), for example using ravel().\n",
      "  estimator.fit(X[:, features], y, **fit_params)\n",
      "[Parallel(n_jobs=-1)]: Using backend ThreadingBackend with 8 concurrent workers.\n",
      "[Parallel(n_jobs=-1)]: Done  34 tasks      | elapsed:   19.2s\n",
      "[Parallel(n_jobs=-1)]: Done  50 out of  50 | elapsed:   25.8s finished\n",
      "/Users/miquelsaula/mambaforge/envs/TradingStrategies2/lib/python3.9/site-packages/sklearn/feature_selection/_rfe.py:283: DataConversionWarning: A column-vector y was passed when a 1d array was expected. Please change the shape of y to (n_samples,), for example using ravel().\n",
      "  estimator.fit(X[:, features], y, **fit_params)\n",
      "[Parallel(n_jobs=-1)]: Using backend ThreadingBackend with 8 concurrent workers.\n",
      "[Parallel(n_jobs=-1)]: Done  34 tasks      | elapsed:   20.0s\n",
      "[Parallel(n_jobs=-1)]: Done  50 out of  50 | elapsed:   27.4s finished\n",
      "/Users/miquelsaula/mambaforge/envs/TradingStrategies2/lib/python3.9/site-packages/sklearn/feature_selection/_rfe.py:283: DataConversionWarning: A column-vector y was passed when a 1d array was expected. Please change the shape of y to (n_samples,), for example using ravel().\n",
      "  estimator.fit(X[:, features], y, **fit_params)\n",
      "[Parallel(n_jobs=-1)]: Using backend ThreadingBackend with 8 concurrent workers.\n",
      "[Parallel(n_jobs=-1)]: Done  34 tasks      | elapsed:   19.3s\n",
      "[Parallel(n_jobs=-1)]: Done  50 out of  50 | elapsed:   26.1s finished\n",
      "/Users/miquelsaula/mambaforge/envs/TradingStrategies2/lib/python3.9/site-packages/sklearn/feature_selection/_rfe.py:283: DataConversionWarning: A column-vector y was passed when a 1d array was expected. Please change the shape of y to (n_samples,), for example using ravel().\n",
      "  estimator.fit(X[:, features], y, **fit_params)\n",
      "[Parallel(n_jobs=-1)]: Using backend ThreadingBackend with 8 concurrent workers.\n",
      "[Parallel(n_jobs=-1)]: Done  34 tasks      | elapsed:   19.2s\n",
      "[Parallel(n_jobs=-1)]: Done  50 out of  50 | elapsed:   25.3s finished\n",
      "/Users/miquelsaula/mambaforge/envs/TradingStrategies2/lib/python3.9/site-packages/sklearn/feature_selection/_rfe.py:283: DataConversionWarning: A column-vector y was passed when a 1d array was expected. Please change the shape of y to (n_samples,), for example using ravel().\n",
      "  estimator.fit(X[:, features], y, **fit_params)\n",
      "[Parallel(n_jobs=-1)]: Using backend ThreadingBackend with 8 concurrent workers.\n",
      "[Parallel(n_jobs=-1)]: Done  34 tasks      | elapsed:   17.7s\n",
      "[Parallel(n_jobs=-1)]: Done  50 out of  50 | elapsed:   23.7s finished\n",
      "/Users/miquelsaula/mambaforge/envs/TradingStrategies2/lib/python3.9/site-packages/sklearn/feature_selection/_rfe.py:283: DataConversionWarning: A column-vector y was passed when a 1d array was expected. Please change the shape of y to (n_samples,), for example using ravel().\n",
      "  estimator.fit(X[:, features], y, **fit_params)\n",
      "[Parallel(n_jobs=-1)]: Using backend ThreadingBackend with 8 concurrent workers.\n",
      "[Parallel(n_jobs=-1)]: Done  34 tasks      | elapsed:   17.5s\n",
      "[Parallel(n_jobs=-1)]: Done  50 out of  50 | elapsed:   23.4s finished\n",
      "/Users/miquelsaula/mambaforge/envs/TradingStrategies2/lib/python3.9/site-packages/sklearn/feature_selection/_rfe.py:283: DataConversionWarning: A column-vector y was passed when a 1d array was expected. Please change the shape of y to (n_samples,), for example using ravel().\n",
      "  estimator.fit(X[:, features], y, **fit_params)\n",
      "[Parallel(n_jobs=-1)]: Using backend ThreadingBackend with 8 concurrent workers.\n",
      "[Parallel(n_jobs=-1)]: Done  34 tasks      | elapsed:   17.2s\n",
      "[Parallel(n_jobs=-1)]: Done  50 out of  50 | elapsed:   23.1s finished\n",
      "/Users/miquelsaula/mambaforge/envs/TradingStrategies2/lib/python3.9/site-packages/sklearn/feature_selection/_rfe.py:283: DataConversionWarning: A column-vector y was passed when a 1d array was expected. Please change the shape of y to (n_samples,), for example using ravel().\n",
      "  estimator.fit(X[:, features], y, **fit_params)\n",
      "[Parallel(n_jobs=-1)]: Using backend ThreadingBackend with 8 concurrent workers.\n",
      "[Parallel(n_jobs=-1)]: Done  34 tasks      | elapsed:   16.8s\n",
      "[Parallel(n_jobs=-1)]: Done  50 out of  50 | elapsed:   22.6s finished\n",
      "/Users/miquelsaula/mambaforge/envs/TradingStrategies2/lib/python3.9/site-packages/sklearn/feature_selection/_rfe.py:283: DataConversionWarning: A column-vector y was passed when a 1d array was expected. Please change the shape of y to (n_samples,), for example using ravel().\n",
      "  estimator.fit(X[:, features], y, **fit_params)\n",
      "[Parallel(n_jobs=-1)]: Using backend ThreadingBackend with 8 concurrent workers.\n",
      "[Parallel(n_jobs=-1)]: Done  34 tasks      | elapsed:   17.5s\n",
      "[Parallel(n_jobs=-1)]: Done  50 out of  50 | elapsed:   23.4s finished\n",
      "/Users/miquelsaula/mambaforge/envs/TradingStrategies2/lib/python3.9/site-packages/sklearn/feature_selection/_rfe.py:283: DataConversionWarning: A column-vector y was passed when a 1d array was expected. Please change the shape of y to (n_samples,), for example using ravel().\n",
      "  estimator.fit(X[:, features], y, **fit_params)\n",
      "[Parallel(n_jobs=-1)]: Using backend ThreadingBackend with 8 concurrent workers.\n",
      "[Parallel(n_jobs=-1)]: Done  34 tasks      | elapsed:   17.0s\n",
      "[Parallel(n_jobs=-1)]: Done  50 out of  50 | elapsed:   22.7s finished\n",
      "/Users/miquelsaula/mambaforge/envs/TradingStrategies2/lib/python3.9/site-packages/sklearn/feature_selection/_rfe.py:283: DataConversionWarning: A column-vector y was passed when a 1d array was expected. Please change the shape of y to (n_samples,), for example using ravel().\n",
      "  estimator.fit(X[:, features], y, **fit_params)\n",
      "[Parallel(n_jobs=-1)]: Using backend ThreadingBackend with 8 concurrent workers.\n",
      "[Parallel(n_jobs=-1)]: Done  34 tasks      | elapsed:   16.7s\n",
      "[Parallel(n_jobs=-1)]: Done  50 out of  50 | elapsed:   22.4s finished\n",
      "/Users/miquelsaula/mambaforge/envs/TradingStrategies2/lib/python3.9/site-packages/sklearn/feature_selection/_rfe.py:283: DataConversionWarning: A column-vector y was passed when a 1d array was expected. Please change the shape of y to (n_samples,), for example using ravel().\n",
      "  estimator.fit(X[:, features], y, **fit_params)\n",
      "[Parallel(n_jobs=-1)]: Using backend ThreadingBackend with 8 concurrent workers.\n",
      "[Parallel(n_jobs=-1)]: Done  34 tasks      | elapsed:   16.5s\n",
      "[Parallel(n_jobs=-1)]: Done  50 out of  50 | elapsed:   22.0s finished\n",
      "/Users/miquelsaula/mambaforge/envs/TradingStrategies2/lib/python3.9/site-packages/sklearn/feature_selection/_rfe.py:283: DataConversionWarning: A column-vector y was passed when a 1d array was expected. Please change the shape of y to (n_samples,), for example using ravel().\n",
      "  estimator.fit(X[:, features], y, **fit_params)\n",
      "[Parallel(n_jobs=-1)]: Using backend ThreadingBackend with 8 concurrent workers.\n",
      "[Parallel(n_jobs=-1)]: Done  34 tasks      | elapsed:   16.0s\n",
      "[Parallel(n_jobs=-1)]: Done  50 out of  50 | elapsed:   21.4s finished\n",
      "/Users/miquelsaula/mambaforge/envs/TradingStrategies2/lib/python3.9/site-packages/sklearn/feature_selection/_rfe.py:283: DataConversionWarning: A column-vector y was passed when a 1d array was expected. Please change the shape of y to (n_samples,), for example using ravel().\n",
      "  estimator.fit(X[:, features], y, **fit_params)\n",
      "[Parallel(n_jobs=-1)]: Using backend ThreadingBackend with 8 concurrent workers.\n",
      "[Parallel(n_jobs=-1)]: Done  34 tasks      | elapsed:   16.6s\n",
      "[Parallel(n_jobs=-1)]: Done  50 out of  50 | elapsed:   22.7s finished\n",
      "/Users/miquelsaula/mambaforge/envs/TradingStrategies2/lib/python3.9/site-packages/sklearn/feature_selection/_rfe.py:283: DataConversionWarning: A column-vector y was passed when a 1d array was expected. Please change the shape of y to (n_samples,), for example using ravel().\n",
      "  estimator.fit(X[:, features], y, **fit_params)\n",
      "[Parallel(n_jobs=-1)]: Using backend ThreadingBackend with 8 concurrent workers.\n",
      "[Parallel(n_jobs=-1)]: Done  34 tasks      | elapsed:   18.6s\n",
      "[Parallel(n_jobs=-1)]: Done  50 out of  50 | elapsed:   24.0s finished\n",
      "/Users/miquelsaula/mambaforge/envs/TradingStrategies2/lib/python3.9/site-packages/sklearn/feature_selection/_rfe.py:283: DataConversionWarning: A column-vector y was passed when a 1d array was expected. Please change the shape of y to (n_samples,), for example using ravel().\n",
      "  estimator.fit(X[:, features], y, **fit_params)\n",
      "[Parallel(n_jobs=-1)]: Using backend ThreadingBackend with 8 concurrent workers.\n",
      "[Parallel(n_jobs=-1)]: Done  34 tasks      | elapsed:   15.8s\n",
      "[Parallel(n_jobs=-1)]: Done  50 out of  50 | elapsed:   21.6s finished\n",
      "/Users/miquelsaula/mambaforge/envs/TradingStrategies2/lib/python3.9/site-packages/sklearn/feature_selection/_rfe.py:283: DataConversionWarning: A column-vector y was passed when a 1d array was expected. Please change the shape of y to (n_samples,), for example using ravel().\n",
      "  estimator.fit(X[:, features], y, **fit_params)\n",
      "[Parallel(n_jobs=-1)]: Using backend ThreadingBackend with 8 concurrent workers.\n",
      "[Parallel(n_jobs=-1)]: Done  34 tasks      | elapsed:   17.1s\n",
      "[Parallel(n_jobs=-1)]: Done  50 out of  50 | elapsed:   22.2s finished\n",
      "/Users/miquelsaula/mambaforge/envs/TradingStrategies2/lib/python3.9/site-packages/sklearn/feature_selection/_rfe.py:283: DataConversionWarning: A column-vector y was passed when a 1d array was expected. Please change the shape of y to (n_samples,), for example using ravel().\n",
      "  estimator.fit(X[:, features], y, **fit_params)\n",
      "[Parallel(n_jobs=-1)]: Using backend ThreadingBackend with 8 concurrent workers.\n",
      "[Parallel(n_jobs=-1)]: Done  34 tasks      | elapsed:   16.3s\n",
      "[Parallel(n_jobs=-1)]: Done  50 out of  50 | elapsed:   21.6s finished\n",
      "/Users/miquelsaula/mambaforge/envs/TradingStrategies2/lib/python3.9/site-packages/sklearn/feature_selection/_rfe.py:283: DataConversionWarning: A column-vector y was passed when a 1d array was expected. Please change the shape of y to (n_samples,), for example using ravel().\n",
      "  estimator.fit(X[:, features], y, **fit_params)\n",
      "[Parallel(n_jobs=-1)]: Using backend ThreadingBackend with 8 concurrent workers.\n",
      "[Parallel(n_jobs=-1)]: Done  34 tasks      | elapsed:   14.9s\n",
      "[Parallel(n_jobs=-1)]: Done  50 out of  50 | elapsed:   20.1s finished\n",
      "/Users/miquelsaula/mambaforge/envs/TradingStrategies2/lib/python3.9/site-packages/sklearn/feature_selection/_rfe.py:283: DataConversionWarning: A column-vector y was passed when a 1d array was expected. Please change the shape of y to (n_samples,), for example using ravel().\n",
      "  estimator.fit(X[:, features], y, **fit_params)\n",
      "[Parallel(n_jobs=-1)]: Using backend ThreadingBackend with 8 concurrent workers.\n",
      "[Parallel(n_jobs=-1)]: Done  34 tasks      | elapsed:   14.4s\n",
      "[Parallel(n_jobs=-1)]: Done  50 out of  50 | elapsed:   19.3s finished\n",
      "/Users/miquelsaula/mambaforge/envs/TradingStrategies2/lib/python3.9/site-packages/sklearn/feature_selection/_rfe.py:283: DataConversionWarning: A column-vector y was passed when a 1d array was expected. Please change the shape of y to (n_samples,), for example using ravel().\n",
      "  estimator.fit(X[:, features], y, **fit_params)\n",
      "[Parallel(n_jobs=-1)]: Using backend ThreadingBackend with 8 concurrent workers.\n",
      "[Parallel(n_jobs=-1)]: Done  34 tasks      | elapsed:   14.4s\n",
      "[Parallel(n_jobs=-1)]: Done  50 out of  50 | elapsed:   18.9s finished\n",
      "/Users/miquelsaula/mambaforge/envs/TradingStrategies2/lib/python3.9/site-packages/sklearn/feature_selection/_rfe.py:283: DataConversionWarning: A column-vector y was passed when a 1d array was expected. Please change the shape of y to (n_samples,), for example using ravel().\n",
      "  estimator.fit(X[:, features], y, **fit_params)\n",
      "[Parallel(n_jobs=-1)]: Using backend ThreadingBackend with 8 concurrent workers.\n",
      "[Parallel(n_jobs=-1)]: Done  34 tasks      | elapsed:   13.3s\n",
      "[Parallel(n_jobs=-1)]: Done  50 out of  50 | elapsed:   17.7s finished\n",
      "/Users/miquelsaula/mambaforge/envs/TradingStrategies2/lib/python3.9/site-packages/sklearn/feature_selection/_rfe.py:283: DataConversionWarning: A column-vector y was passed when a 1d array was expected. Please change the shape of y to (n_samples,), for example using ravel().\n",
      "  estimator.fit(X[:, features], y, **fit_params)\n",
      "[Parallel(n_jobs=-1)]: Using backend ThreadingBackend with 8 concurrent workers.\n",
      "[Parallel(n_jobs=-1)]: Done  34 tasks      | elapsed:   13.4s\n",
      "[Parallel(n_jobs=-1)]: Done  50 out of  50 | elapsed:   18.6s finished\n",
      "/Users/miquelsaula/mambaforge/envs/TradingStrategies2/lib/python3.9/site-packages/sklearn/feature_selection/_rfe.py:283: DataConversionWarning: A column-vector y was passed when a 1d array was expected. Please change the shape of y to (n_samples,), for example using ravel().\n",
      "  estimator.fit(X[:, features], y, **fit_params)\n",
      "[Parallel(n_jobs=-1)]: Using backend ThreadingBackend with 8 concurrent workers.\n",
      "[Parallel(n_jobs=-1)]: Done  34 tasks      | elapsed:   13.4s\n",
      "[Parallel(n_jobs=-1)]: Done  50 out of  50 | elapsed:   17.6s finished\n",
      "/Users/miquelsaula/mambaforge/envs/TradingStrategies2/lib/python3.9/site-packages/sklearn/feature_selection/_rfe.py:283: DataConversionWarning: A column-vector y was passed when a 1d array was expected. Please change the shape of y to (n_samples,), for example using ravel().\n",
      "  estimator.fit(X[:, features], y, **fit_params)\n",
      "[Parallel(n_jobs=-1)]: Using backend ThreadingBackend with 8 concurrent workers.\n",
      "[Parallel(n_jobs=-1)]: Done  34 tasks      | elapsed:   12.3s\n",
      "[Parallel(n_jobs=-1)]: Done  50 out of  50 | elapsed:   16.3s finished\n",
      "/Users/miquelsaula/mambaforge/envs/TradingStrategies2/lib/python3.9/site-packages/sklearn/feature_selection/_rfe.py:283: DataConversionWarning: A column-vector y was passed when a 1d array was expected. Please change the shape of y to (n_samples,), for example using ravel().\n",
      "  estimator.fit(X[:, features], y, **fit_params)\n",
      "[Parallel(n_jobs=-1)]: Using backend ThreadingBackend with 8 concurrent workers.\n",
      "[Parallel(n_jobs=-1)]: Done  34 tasks      | elapsed:   11.8s\n",
      "[Parallel(n_jobs=-1)]: Done  50 out of  50 | elapsed:   15.7s finished\n",
      "/Users/miquelsaula/mambaforge/envs/TradingStrategies2/lib/python3.9/site-packages/sklearn/feature_selection/_rfe.py:283: DataConversionWarning: A column-vector y was passed when a 1d array was expected. Please change the shape of y to (n_samples,), for example using ravel().\n",
      "  estimator.fit(X[:, features], y, **fit_params)\n",
      "[Parallel(n_jobs=-1)]: Using backend ThreadingBackend with 8 concurrent workers.\n",
      "[Parallel(n_jobs=-1)]: Done  34 tasks      | elapsed:   11.3s\n",
      "[Parallel(n_jobs=-1)]: Done  50 out of  50 | elapsed:   15.1s finished\n",
      "/Users/miquelsaula/mambaforge/envs/TradingStrategies2/lib/python3.9/site-packages/sklearn/feature_selection/_rfe.py:283: DataConversionWarning: A column-vector y was passed when a 1d array was expected. Please change the shape of y to (n_samples,), for example using ravel().\n",
      "  estimator.fit(X[:, features], y, **fit_params)\n",
      "[Parallel(n_jobs=-1)]: Using backend ThreadingBackend with 8 concurrent workers.\n",
      "[Parallel(n_jobs=-1)]: Done  34 tasks      | elapsed:   11.0s\n",
      "[Parallel(n_jobs=-1)]: Done  50 out of  50 | elapsed:   14.5s finished\n",
      "/Users/miquelsaula/mambaforge/envs/TradingStrategies2/lib/python3.9/site-packages/sklearn/feature_selection/_rfe.py:283: DataConversionWarning: A column-vector y was passed when a 1d array was expected. Please change the shape of y to (n_samples,), for example using ravel().\n",
      "  estimator.fit(X[:, features], y, **fit_params)\n",
      "[Parallel(n_jobs=-1)]: Using backend ThreadingBackend with 8 concurrent workers.\n",
      "[Parallel(n_jobs=-1)]: Done  34 tasks      | elapsed:   11.3s\n",
      "[Parallel(n_jobs=-1)]: Done  50 out of  50 | elapsed:   14.8s finished\n",
      "/Users/miquelsaula/mambaforge/envs/TradingStrategies2/lib/python3.9/site-packages/sklearn/feature_selection/_rfe.py:283: DataConversionWarning: A column-vector y was passed when a 1d array was expected. Please change the shape of y to (n_samples,), for example using ravel().\n",
      "  estimator.fit(X[:, features], y, **fit_params)\n",
      "[Parallel(n_jobs=-1)]: Using backend ThreadingBackend with 8 concurrent workers.\n",
      "[Parallel(n_jobs=-1)]: Done  34 tasks      | elapsed:   10.3s\n",
      "[Parallel(n_jobs=-1)]: Done  50 out of  50 | elapsed:   13.7s finished\n",
      "/Users/miquelsaula/mambaforge/envs/TradingStrategies2/lib/python3.9/site-packages/sklearn/feature_selection/_rfe.py:283: DataConversionWarning: A column-vector y was passed when a 1d array was expected. Please change the shape of y to (n_samples,), for example using ravel().\n",
      "  estimator.fit(X[:, features], y, **fit_params)\n",
      "[Parallel(n_jobs=-1)]: Using backend ThreadingBackend with 8 concurrent workers.\n",
      "[Parallel(n_jobs=-1)]: Done  34 tasks      | elapsed:    9.9s\n",
      "[Parallel(n_jobs=-1)]: Done  50 out of  50 | elapsed:   13.1s finished\n",
      "/Users/miquelsaula/mambaforge/envs/TradingStrategies2/lib/python3.9/site-packages/sklearn/feature_selection/_rfe.py:283: DataConversionWarning: A column-vector y was passed when a 1d array was expected. Please change the shape of y to (n_samples,), for example using ravel().\n",
      "  estimator.fit(X[:, features], y, **fit_params)\n",
      "[Parallel(n_jobs=-1)]: Using backend ThreadingBackend with 8 concurrent workers.\n",
      "[Parallel(n_jobs=-1)]: Done  34 tasks      | elapsed:    9.2s\n",
      "[Parallel(n_jobs=-1)]: Done  50 out of  50 | elapsed:   12.3s finished\n",
      "/Users/miquelsaula/mambaforge/envs/TradingStrategies2/lib/python3.9/site-packages/sklearn/feature_selection/_rfe.py:283: DataConversionWarning: A column-vector y was passed when a 1d array was expected. Please change the shape of y to (n_samples,), for example using ravel().\n",
      "  estimator.fit(X[:, features], y, **fit_params)\n",
      "[Parallel(n_jobs=-1)]: Using backend ThreadingBackend with 8 concurrent workers.\n",
      "[Parallel(n_jobs=-1)]: Done  34 tasks      | elapsed:    9.0s\n",
      "[Parallel(n_jobs=-1)]: Done  50 out of  50 | elapsed:   12.0s finished\n",
      "/Users/miquelsaula/mambaforge/envs/TradingStrategies2/lib/python3.9/site-packages/sklearn/feature_selection/_rfe.py:283: DataConversionWarning: A column-vector y was passed when a 1d array was expected. Please change the shape of y to (n_samples,), for example using ravel().\n",
      "  estimator.fit(X[:, features], y, **fit_params)\n",
      "[Parallel(n_jobs=-1)]: Using backend ThreadingBackend with 8 concurrent workers.\n",
      "[Parallel(n_jobs=-1)]: Done  34 tasks      | elapsed:    8.4s\n",
      "[Parallel(n_jobs=-1)]: Done  50 out of  50 | elapsed:   11.4s finished\n",
      "/Users/miquelsaula/mambaforge/envs/TradingStrategies2/lib/python3.9/site-packages/sklearn/feature_selection/_rfe.py:283: DataConversionWarning: A column-vector y was passed when a 1d array was expected. Please change the shape of y to (n_samples,), for example using ravel().\n",
      "  estimator.fit(X[:, features], y, **fit_params)\n",
      "[Parallel(n_jobs=-1)]: Using backend ThreadingBackend with 8 concurrent workers.\n",
      "[Parallel(n_jobs=-1)]: Done  34 tasks      | elapsed:    8.3s\n",
      "[Parallel(n_jobs=-1)]: Done  50 out of  50 | elapsed:   11.0s finished\n",
      "/Users/miquelsaula/mambaforge/envs/TradingStrategies2/lib/python3.9/site-packages/sklearn/feature_selection/_rfe.py:283: DataConversionWarning: A column-vector y was passed when a 1d array was expected. Please change the shape of y to (n_samples,), for example using ravel().\n",
      "  estimator.fit(X[:, features], y, **fit_params)\n",
      "[Parallel(n_jobs=-1)]: Using backend ThreadingBackend with 8 concurrent workers.\n",
      "[Parallel(n_jobs=-1)]: Done  34 tasks      | elapsed:    7.9s\n",
      "[Parallel(n_jobs=-1)]: Done  50 out of  50 | elapsed:   10.5s finished\n",
      "/Users/miquelsaula/mambaforge/envs/TradingStrategies2/lib/python3.9/site-packages/sklearn/feature_selection/_rfe.py:283: DataConversionWarning: A column-vector y was passed when a 1d array was expected. Please change the shape of y to (n_samples,), for example using ravel().\n",
      "  estimator.fit(X[:, features], y, **fit_params)\n",
      "[Parallel(n_jobs=-1)]: Using backend ThreadingBackend with 8 concurrent workers.\n",
      "[Parallel(n_jobs=-1)]: Done  34 tasks      | elapsed:    7.7s\n",
      "[Parallel(n_jobs=-1)]: Done  50 out of  50 | elapsed:   10.3s finished\n",
      "/Users/miquelsaula/mambaforge/envs/TradingStrategies2/lib/python3.9/site-packages/sklearn/feature_selection/_rfe.py:283: DataConversionWarning: A column-vector y was passed when a 1d array was expected. Please change the shape of y to (n_samples,), for example using ravel().\n",
      "  estimator.fit(X[:, features], y, **fit_params)\n",
      "[Parallel(n_jobs=-1)]: Using backend ThreadingBackend with 8 concurrent workers.\n",
      "[Parallel(n_jobs=-1)]: Done  34 tasks      | elapsed:    7.2s\n",
      "[Parallel(n_jobs=-1)]: Done  50 out of  50 | elapsed:    9.7s finished\n",
      "/Users/miquelsaula/mambaforge/envs/TradingStrategies2/lib/python3.9/site-packages/sklearn/feature_selection/_rfe.py:283: DataConversionWarning: A column-vector y was passed when a 1d array was expected. Please change the shape of y to (n_samples,), for example using ravel().\n",
      "  estimator.fit(X[:, features], y, **fit_params)\n",
      "[Parallel(n_jobs=-1)]: Using backend ThreadingBackend with 8 concurrent workers.\n",
      "[Parallel(n_jobs=-1)]: Done  34 tasks      | elapsed:    6.8s\n",
      "[Parallel(n_jobs=-1)]: Done  50 out of  50 | elapsed:    9.1s finished\n",
      "/Users/miquelsaula/mambaforge/envs/TradingStrategies2/lib/python3.9/site-packages/sklearn/feature_selection/_rfe.py:283: DataConversionWarning: A column-vector y was passed when a 1d array was expected. Please change the shape of y to (n_samples,), for example using ravel().\n",
      "  estimator.fit(X[:, features], y, **fit_params)\n",
      "[Parallel(n_jobs=-1)]: Using backend ThreadingBackend with 8 concurrent workers.\n",
      "[Parallel(n_jobs=-1)]: Done  34 tasks      | elapsed:    6.3s\n",
      "[Parallel(n_jobs=-1)]: Done  50 out of  50 | elapsed:    8.4s finished\n",
      "/Users/miquelsaula/mambaforge/envs/TradingStrategies2/lib/python3.9/site-packages/sklearn/feature_selection/_rfe.py:283: DataConversionWarning: A column-vector y was passed when a 1d array was expected. Please change the shape of y to (n_samples,), for example using ravel().\n",
      "  estimator.fit(X[:, features], y, **fit_params)\n",
      "[Parallel(n_jobs=-1)]: Using backend ThreadingBackend with 8 concurrent workers.\n",
      "[Parallel(n_jobs=-1)]: Done  34 tasks      | elapsed:    6.7s\n",
      "[Parallel(n_jobs=-1)]: Done  50 out of  50 | elapsed:    9.2s finished\n",
      "/Users/miquelsaula/mambaforge/envs/TradingStrategies2/lib/python3.9/site-packages/sklearn/feature_selection/_rfe.py:283: DataConversionWarning: A column-vector y was passed when a 1d array was expected. Please change the shape of y to (n_samples,), for example using ravel().\n",
      "  estimator.fit(X[:, features], y, **fit_params)\n",
      "[Parallel(n_jobs=-1)]: Using backend ThreadingBackend with 8 concurrent workers.\n",
      "[Parallel(n_jobs=-1)]: Done  34 tasks      | elapsed:    5.9s\n",
      "[Parallel(n_jobs=-1)]: Done  50 out of  50 | elapsed:    7.9s finished\n",
      "/Users/miquelsaula/mambaforge/envs/TradingStrategies2/lib/python3.9/site-packages/sklearn/feature_selection/_rfe.py:283: DataConversionWarning: A column-vector y was passed when a 1d array was expected. Please change the shape of y to (n_samples,), for example using ravel().\n",
      "  estimator.fit(X[:, features], y, **fit_params)\n",
      "[Parallel(n_jobs=-1)]: Using backend ThreadingBackend with 8 concurrent workers.\n",
      "[Parallel(n_jobs=-1)]: Done  34 tasks      | elapsed:    5.7s\n",
      "[Parallel(n_jobs=-1)]: Done  50 out of  50 | elapsed:    7.7s finished\n",
      "/Users/miquelsaula/mambaforge/envs/TradingStrategies2/lib/python3.9/site-packages/sklearn/feature_selection/_rfe.py:283: DataConversionWarning: A column-vector y was passed when a 1d array was expected. Please change the shape of y to (n_samples,), for example using ravel().\n",
      "  estimator.fit(X[:, features], y, **fit_params)\n",
      "[Parallel(n_jobs=-1)]: Using backend ThreadingBackend with 8 concurrent workers.\n",
      "[Parallel(n_jobs=-1)]: Done  34 tasks      | elapsed:    5.5s\n",
      "[Parallel(n_jobs=-1)]: Done  50 out of  50 | elapsed:    7.4s finished\n",
      "/Users/miquelsaula/mambaforge/envs/TradingStrategies2/lib/python3.9/site-packages/sklearn/feature_selection/_rfe.py:283: DataConversionWarning: A column-vector y was passed when a 1d array was expected. Please change the shape of y to (n_samples,), for example using ravel().\n",
      "  estimator.fit(X[:, features], y, **fit_params)\n",
      "[Parallel(n_jobs=-1)]: Using backend ThreadingBackend with 8 concurrent workers.\n",
      "[Parallel(n_jobs=-1)]: Done  34 tasks      | elapsed:    5.0s\n",
      "[Parallel(n_jobs=-1)]: Done  50 out of  50 | elapsed:    6.6s finished\n",
      "/Users/miquelsaula/mambaforge/envs/TradingStrategies2/lib/python3.9/site-packages/sklearn/feature_selection/_rfe.py:310: DataConversionWarning: A column-vector y was passed when a 1d array was expected. Please change the shape of y to (n_samples,), for example using ravel().\n",
      "  self.estimator_.fit(X[:, features], y, **fit_params)\n",
      "[Parallel(n_jobs=-1)]: Using backend ThreadingBackend with 8 concurrent workers.\n",
      "[Parallel(n_jobs=-1)]: Done  34 tasks      | elapsed:    4.3s\n"
     ]
    },
    {
     "name": "stdout",
     "output_type": "stream",
     "text": [
      "Columns selected by RFE: Index(['emaL', 'std', 'obvmS', 'obvmL', 'ewm_26', 'financial_data_age',\n",
      "       'spy_value', 'time_embed_year_sin', 'time_embed_year_cos',\n",
      "       'market_correlation'],\n",
      "      dtype='object')\n"
     ]
    },
    {
     "name": "stderr",
     "output_type": "stream",
     "text": [
      "[Parallel(n_jobs=-1)]: Done  50 out of  50 | elapsed:    5.8s finished\n"
     ]
    }
   ],
   "source": [
    "rfe = RFE(\n",
    "    RandomForestRegressor(\n",
    "        max_depth=5,\n",
    "        n_estimators=50,\n",
    "        min_samples_split=2,\n",
    "        verbose=True,\n",
    "        n_jobs=-1\n",
    "    ),\n",
    "    n_features_to_select=10\n",
    ")\n",
    "rfe.fit(X_train_scaled, y_train_scaled)\n",
    "X_train_rfe = rfe.transform(X_train_scaled)\n",
    "X_test_rfe = rfe.transform(X_test_scaled)\n",
    "\n",
    "column_names_rfe = X.columns[rfe.get_support()]\n",
    "print(\"Columns selected by RFE:\", column_names_rfe)"
   ]
  },
  {
   "attachments": {},
   "cell_type": "markdown",
   "metadata": {},
   "source": [
    "# All data\n",
    "\n",
    "- selection 1: [\n",
    "    'diff', 'pc', 'rsi', 'rsid', 'macds', 'financial_data_age', 'time_embed_week_sin',\n",
    "    'time_embed_week_cos', 'time_embed_month_cos', 'market_change'\n",
    "]\n",
    "- selection 2: [\n",
    "    'emaL', 'std', 'obvmS', 'obvmL', 'obvSH', 'lavgv', 'macd_std',\n",
    "    'financial_data_age', 'spy_value', 'time_embed_year_cos'\n",
    "]\n",
    "- selection 3: [\n",
    "    'emaL', 'std', 'obvmS', 'obvmL', 'ewm_26', 'financial_data_age',\n",
    "    'spy_value', 'time_embed_year_sin', 'time_embed_year_cos', 'market_correlation'\n",
    "]\n",
    "\n",
    "---\n",
    "\n",
    "# Only big ops\n",
    "\n"
   ]
  },
  {
   "cell_type": "code",
   "execution_count": null,
   "metadata": {},
   "outputs": [],
   "source": []
  },
  {
   "attachments": {},
   "cell_type": "markdown",
   "metadata": {},
   "source": [
    "---"
   ]
  },
  {
   "cell_type": "code",
   "execution_count": null,
   "metadata": {},
   "outputs": [],
   "source": [
    "top_value = df['pc12'].quantile(0.95)\n",
    "bottom_value = df['pc12'].quantile(0.05)\n",
    "\n",
    "df['category'] = 'middle'\n",
    "df.loc[df['pc12'] > top_value, 'category'] = 'top'\n",
    "df.loc[df['pc12'] < bottom_value, 'category'] = 'bottom'"
   ]
  }
 ],
 "metadata": {
  "kernelspec": {
   "display_name": "TradingStrategies2",
   "language": "python",
   "name": "python3"
  },
  "language_info": {
   "codemirror_mode": {
    "name": "ipython",
    "version": 3
   },
   "file_extension": ".py",
   "mimetype": "text/x-python",
   "name": "python",
   "nbconvert_exporter": "python",
   "pygments_lexer": "ipython3",
   "version": "3.9.10"
  },
  "orig_nbformat": 4
 },
 "nbformat": 4,
 "nbformat_minor": 2
}
